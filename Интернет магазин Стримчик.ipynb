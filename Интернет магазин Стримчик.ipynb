{
 "cells": [
  {
   "cell_type": "markdown",
   "id": "054091da",
   "metadata": {},
   "source": [
    "### Анализ продаж видеоигр в интернет магазине Стримчик\n",
    "Вы работаете в интернет-магазине «Стримчик», который продаёт по всему миру компьютерные игры. Из открытых источников доступны исторические данные о продажах игр, оценки пользователей и экспертов, жанры и платформы (например, Xbox или PlayStation). Вам нужно выявить определяющие успешность игры закономерности. Это позволит сделать ставку на потенциально популярный продукт и спланировать рекламные кампании.\n",
    "Перед вами данные до 2016 года. Представим, что сейчас декабрь 2016 г., и вы планируете кампанию на 2017-й. Нужно отработать принцип работы с данными. Неважно, прогнозируете ли вы продажи на 2017 год по данным 2016-го или же 2027-й — по данным 2026 года.\n",
    "В наборе данных попадается аббревиатура ESRB (Entertainment Software Rating Board) — это ассоциация, определяющая возрастной рейтинг компьютерных игр. ESRB оценивает игровой контент и присваивает ему подходящую возрастную категорию, например, «Для взрослых», «Для детей младшего возраста» или «Для подростков»."
   ]
  },
  {
   "cell_type": "code",
   "execution_count": 1,
   "id": "d91dfaec",
   "metadata": {},
   "outputs": [],
   "source": [
    "from scipy import stats as st\n",
    "import matplotlib.pyplot as plt\n",
    "import pandas as pd\n",
    "import numpy as np\n",
    "import missingno as msno"
   ]
  },
  {
   "cell_type": "markdown",
   "id": "c42cbe00",
   "metadata": {},
   "source": [
    "#### Шаг 1. Откройте файл с данными и изучите общую информацию"
   ]
  },
  {
   "cell_type": "code",
   "execution_count": 2,
   "id": "eff9f206",
   "metadata": {},
   "outputs": [],
   "source": [
    "try:\n",
    "    games = pd.read_csv('games.csv')\n",
    "except:\n",
    "    games = pd.read_csv('https://code.s3.yandex.net/datasets/games.csv')"
   ]
  },
  {
   "cell_type": "code",
   "execution_count": 3,
   "id": "68df06eb",
   "metadata": {},
   "outputs": [
    {
     "data": {
      "text/html": [
       "<div>\n",
       "<style scoped>\n",
       "    .dataframe tbody tr th:only-of-type {\n",
       "        vertical-align: middle;\n",
       "    }\n",
       "\n",
       "    .dataframe tbody tr th {\n",
       "        vertical-align: top;\n",
       "    }\n",
       "\n",
       "    .dataframe thead th {\n",
       "        text-align: right;\n",
       "    }\n",
       "</style>\n",
       "<table border=\"1\" class=\"dataframe\">\n",
       "  <thead>\n",
       "    <tr style=\"text-align: right;\">\n",
       "      <th></th>\n",
       "      <th>Name</th>\n",
       "      <th>Platform</th>\n",
       "      <th>Year_of_Release</th>\n",
       "      <th>Genre</th>\n",
       "      <th>NA_sales</th>\n",
       "      <th>EU_sales</th>\n",
       "      <th>JP_sales</th>\n",
       "      <th>Other_sales</th>\n",
       "      <th>Critic_Score</th>\n",
       "      <th>User_Score</th>\n",
       "      <th>Rating</th>\n",
       "    </tr>\n",
       "  </thead>\n",
       "  <tbody>\n",
       "    <tr>\n",
       "      <th>0</th>\n",
       "      <td>Wii Sports</td>\n",
       "      <td>Wii</td>\n",
       "      <td>2006.0</td>\n",
       "      <td>Sports</td>\n",
       "      <td>41.36</td>\n",
       "      <td>28.96</td>\n",
       "      <td>3.77</td>\n",
       "      <td>8.45</td>\n",
       "      <td>76.0</td>\n",
       "      <td>8</td>\n",
       "      <td>E</td>\n",
       "    </tr>\n",
       "    <tr>\n",
       "      <th>1</th>\n",
       "      <td>Super Mario Bros.</td>\n",
       "      <td>NES</td>\n",
       "      <td>1985.0</td>\n",
       "      <td>Platform</td>\n",
       "      <td>29.08</td>\n",
       "      <td>3.58</td>\n",
       "      <td>6.81</td>\n",
       "      <td>0.77</td>\n",
       "      <td>NaN</td>\n",
       "      <td>NaN</td>\n",
       "      <td>NaN</td>\n",
       "    </tr>\n",
       "    <tr>\n",
       "      <th>2</th>\n",
       "      <td>Mario Kart Wii</td>\n",
       "      <td>Wii</td>\n",
       "      <td>2008.0</td>\n",
       "      <td>Racing</td>\n",
       "      <td>15.68</td>\n",
       "      <td>12.76</td>\n",
       "      <td>3.79</td>\n",
       "      <td>3.29</td>\n",
       "      <td>82.0</td>\n",
       "      <td>8.3</td>\n",
       "      <td>E</td>\n",
       "    </tr>\n",
       "    <tr>\n",
       "      <th>3</th>\n",
       "      <td>Wii Sports Resort</td>\n",
       "      <td>Wii</td>\n",
       "      <td>2009.0</td>\n",
       "      <td>Sports</td>\n",
       "      <td>15.61</td>\n",
       "      <td>10.93</td>\n",
       "      <td>3.28</td>\n",
       "      <td>2.95</td>\n",
       "      <td>80.0</td>\n",
       "      <td>8</td>\n",
       "      <td>E</td>\n",
       "    </tr>\n",
       "    <tr>\n",
       "      <th>4</th>\n",
       "      <td>Pokemon Red/Pokemon Blue</td>\n",
       "      <td>GB</td>\n",
       "      <td>1996.0</td>\n",
       "      <td>Role-Playing</td>\n",
       "      <td>11.27</td>\n",
       "      <td>8.89</td>\n",
       "      <td>10.22</td>\n",
       "      <td>1.00</td>\n",
       "      <td>NaN</td>\n",
       "      <td>NaN</td>\n",
       "      <td>NaN</td>\n",
       "    </tr>\n",
       "    <tr>\n",
       "      <th>5</th>\n",
       "      <td>Tetris</td>\n",
       "      <td>GB</td>\n",
       "      <td>1989.0</td>\n",
       "      <td>Puzzle</td>\n",
       "      <td>23.20</td>\n",
       "      <td>2.26</td>\n",
       "      <td>4.22</td>\n",
       "      <td>0.58</td>\n",
       "      <td>NaN</td>\n",
       "      <td>NaN</td>\n",
       "      <td>NaN</td>\n",
       "    </tr>\n",
       "    <tr>\n",
       "      <th>6</th>\n",
       "      <td>New Super Mario Bros.</td>\n",
       "      <td>DS</td>\n",
       "      <td>2006.0</td>\n",
       "      <td>Platform</td>\n",
       "      <td>11.28</td>\n",
       "      <td>9.14</td>\n",
       "      <td>6.50</td>\n",
       "      <td>2.88</td>\n",
       "      <td>89.0</td>\n",
       "      <td>8.5</td>\n",
       "      <td>E</td>\n",
       "    </tr>\n",
       "    <tr>\n",
       "      <th>7</th>\n",
       "      <td>Wii Play</td>\n",
       "      <td>Wii</td>\n",
       "      <td>2006.0</td>\n",
       "      <td>Misc</td>\n",
       "      <td>13.96</td>\n",
       "      <td>9.18</td>\n",
       "      <td>2.93</td>\n",
       "      <td>2.84</td>\n",
       "      <td>58.0</td>\n",
       "      <td>6.6</td>\n",
       "      <td>E</td>\n",
       "    </tr>\n",
       "    <tr>\n",
       "      <th>8</th>\n",
       "      <td>New Super Mario Bros. Wii</td>\n",
       "      <td>Wii</td>\n",
       "      <td>2009.0</td>\n",
       "      <td>Platform</td>\n",
       "      <td>14.44</td>\n",
       "      <td>6.94</td>\n",
       "      <td>4.70</td>\n",
       "      <td>2.24</td>\n",
       "      <td>87.0</td>\n",
       "      <td>8.4</td>\n",
       "      <td>E</td>\n",
       "    </tr>\n",
       "    <tr>\n",
       "      <th>9</th>\n",
       "      <td>Duck Hunt</td>\n",
       "      <td>NES</td>\n",
       "      <td>1984.0</td>\n",
       "      <td>Shooter</td>\n",
       "      <td>26.93</td>\n",
       "      <td>0.63</td>\n",
       "      <td>0.28</td>\n",
       "      <td>0.47</td>\n",
       "      <td>NaN</td>\n",
       "      <td>NaN</td>\n",
       "      <td>NaN</td>\n",
       "    </tr>\n",
       "  </tbody>\n",
       "</table>\n",
       "</div>"
      ],
      "text/plain": [
       "                        Name Platform  Year_of_Release         Genre  \\\n",
       "0                 Wii Sports      Wii           2006.0        Sports   \n",
       "1          Super Mario Bros.      NES           1985.0      Platform   \n",
       "2             Mario Kart Wii      Wii           2008.0        Racing   \n",
       "3          Wii Sports Resort      Wii           2009.0        Sports   \n",
       "4   Pokemon Red/Pokemon Blue       GB           1996.0  Role-Playing   \n",
       "5                     Tetris       GB           1989.0        Puzzle   \n",
       "6      New Super Mario Bros.       DS           2006.0      Platform   \n",
       "7                   Wii Play      Wii           2006.0          Misc   \n",
       "8  New Super Mario Bros. Wii      Wii           2009.0      Platform   \n",
       "9                  Duck Hunt      NES           1984.0       Shooter   \n",
       "\n",
       "   NA_sales  EU_sales  JP_sales  Other_sales  Critic_Score User_Score Rating  \n",
       "0     41.36     28.96      3.77         8.45          76.0          8      E  \n",
       "1     29.08      3.58      6.81         0.77           NaN        NaN    NaN  \n",
       "2     15.68     12.76      3.79         3.29          82.0        8.3      E  \n",
       "3     15.61     10.93      3.28         2.95          80.0          8      E  \n",
       "4     11.27      8.89     10.22         1.00           NaN        NaN    NaN  \n",
       "5     23.20      2.26      4.22         0.58           NaN        NaN    NaN  \n",
       "6     11.28      9.14      6.50         2.88          89.0        8.5      E  \n",
       "7     13.96      9.18      2.93         2.84          58.0        6.6      E  \n",
       "8     14.44      6.94      4.70         2.24          87.0        8.4      E  \n",
       "9     26.93      0.63      0.28         0.47           NaN        NaN    NaN  "
      ]
     },
     "metadata": {},
     "output_type": "display_data"
    },
    {
     "name": "stdout",
     "output_type": "stream",
     "text": [
      "<class 'pandas.core.frame.DataFrame'>\n",
      "RangeIndex: 16715 entries, 0 to 16714\n",
      "Data columns (total 11 columns):\n",
      " #   Column           Non-Null Count  Dtype  \n",
      "---  ------           --------------  -----  \n",
      " 0   Name             16713 non-null  object \n",
      " 1   Platform         16715 non-null  object \n",
      " 2   Year_of_Release  16446 non-null  float64\n",
      " 3   Genre            16713 non-null  object \n",
      " 4   NA_sales         16715 non-null  float64\n",
      " 5   EU_sales         16715 non-null  float64\n",
      " 6   JP_sales         16715 non-null  float64\n",
      " 7   Other_sales      16715 non-null  float64\n",
      " 8   Critic_Score     8137 non-null   float64\n",
      " 9   User_Score       10014 non-null  object \n",
      " 10  Rating           9949 non-null   object \n",
      "dtypes: float64(6), object(5)\n",
      "memory usage: 1.4+ MB\n"
     ]
    },
    {
     "data": {
      "text/plain": [
       "None"
      ]
     },
     "metadata": {},
     "output_type": "display_data"
    },
    {
     "data": {
      "text/plain": [
       "Name                  2\n",
       "Platform              0\n",
       "Year_of_Release     269\n",
       "Genre                 2\n",
       "NA_sales              0\n",
       "EU_sales              0\n",
       "JP_sales              0\n",
       "Other_sales           0\n",
       "Critic_Score       8578\n",
       "User_Score         6701\n",
       "Rating             6766\n",
       "dtype: int64"
      ]
     },
     "metadata": {},
     "output_type": "display_data"
    },
    {
     "data": {
      "text/plain": [
       "'Количество полных дубликатов: 0'"
      ]
     },
     "metadata": {},
     "output_type": "display_data"
    },
    {
     "data": {
      "text/plain": [
       "'Количество дубликатов названий: 5155'"
      ]
     },
     "metadata": {},
     "output_type": "display_data"
    }
   ],
   "source": [
    "display(games.head(10)) # Смотрим табличку\n",
    "display(games.info()) # Общая инфа\n",
    "display(games.isna().sum()) # Пропуски\n",
    "display(f'Количество полных дубликатов: {games.duplicated().sum()}') #Полные дубликаты\n",
    "dup_names=games['Name'].duplicated().sum() # Считаем дубликаты в названиях\n",
    "display(f'Количество дубликатов названий: {dup_names}')"
   ]
  },
  {
   "cell_type": "code",
   "execution_count": 4,
   "id": "5cc81718",
   "metadata": {},
   "outputs": [],
   "source": [
    "games.columns=games.columns.str.lower() # сразу опускаем заголовки столбцов в нижний регистр чтоб два раза не бегать."
   ]
  },
  {
   "cell_type": "code",
   "execution_count": 5,
   "id": "d8f7b47c",
   "metadata": {
    "scrolled": true
   },
   "outputs": [
    {
     "data": {
      "image/png": "[encoded data removed]",
      "text/plain": [
       "<Figure size 432x288 with 1 Axes>"
      ]
     },
     "metadata": {
      "needs_background": "light"
     },
     "output_type": "display_data"
    },
    {
     "data": {
      "image/png": "[encoded data removed]",
      "text/plain": [
       "<Figure size 432x288 with 1 Axes>"
      ]
     },
     "metadata": {
      "needs_background": "light"
     },
     "output_type": "display_data"
    },
    {
     "data": {
      "text/html": [
       "<div>\n",
       "<style scoped>\n",
       "    .dataframe tbody tr th:only-of-type {\n",
       "        vertical-align: middle;\n",
       "    }\n",
       "\n",
       "    .dataframe tbody tr th {\n",
       "        vertical-align: top;\n",
       "    }\n",
       "\n",
       "    .dataframe thead th {\n",
       "        text-align: right;\n",
       "    }\n",
       "</style>\n",
       "<table border=\"1\" class=\"dataframe\">\n",
       "  <thead>\n",
       "    <tr style=\"text-align: right;\">\n",
       "      <th></th>\n",
       "      <th>year_of_release</th>\n",
       "      <th>na_sales</th>\n",
       "      <th>eu_sales</th>\n",
       "      <th>jp_sales</th>\n",
       "      <th>other_sales</th>\n",
       "      <th>critic_score</th>\n",
       "    </tr>\n",
       "  </thead>\n",
       "  <tbody>\n",
       "    <tr>\n",
       "      <th>count</th>\n",
       "      <td>16446.000000</td>\n",
       "      <td>16715.000000</td>\n",
       "      <td>16715.000000</td>\n",
       "      <td>16715.000000</td>\n",
       "      <td>16715.000000</td>\n",
       "      <td>8137.000000</td>\n",
       "    </tr>\n",
       "    <tr>\n",
       "      <th>mean</th>\n",
       "      <td>2006.484616</td>\n",
       "      <td>0.263377</td>\n",
       "      <td>0.145060</td>\n",
       "      <td>0.077617</td>\n",
       "      <td>0.047342</td>\n",
       "      <td>68.967679</td>\n",
       "    </tr>\n",
       "    <tr>\n",
       "      <th>std</th>\n",
       "      <td>5.877050</td>\n",
       "      <td>0.813604</td>\n",
       "      <td>0.503339</td>\n",
       "      <td>0.308853</td>\n",
       "      <td>0.186731</td>\n",
       "      <td>13.938165</td>\n",
       "    </tr>\n",
       "    <tr>\n",
       "      <th>min</th>\n",
       "      <td>1980.000000</td>\n",
       "      <td>0.000000</td>\n",
       "      <td>0.000000</td>\n",
       "      <td>0.000000</td>\n",
       "      <td>0.000000</td>\n",
       "      <td>13.000000</td>\n",
       "    </tr>\n",
       "    <tr>\n",
       "      <th>25%</th>\n",
       "      <td>2003.000000</td>\n",
       "      <td>0.000000</td>\n",
       "      <td>0.000000</td>\n",
       "      <td>0.000000</td>\n",
       "      <td>0.000000</td>\n",
       "      <td>60.000000</td>\n",
       "    </tr>\n",
       "    <tr>\n",
       "      <th>50%</th>\n",
       "      <td>2007.000000</td>\n",
       "      <td>0.080000</td>\n",
       "      <td>0.020000</td>\n",
       "      <td>0.000000</td>\n",
       "      <td>0.010000</td>\n",
       "      <td>71.000000</td>\n",
       "    </tr>\n",
       "    <tr>\n",
       "      <th>75%</th>\n",
       "      <td>2010.000000</td>\n",
       "      <td>0.240000</td>\n",
       "      <td>0.110000</td>\n",
       "      <td>0.040000</td>\n",
       "      <td>0.030000</td>\n",
       "      <td>79.000000</td>\n",
       "    </tr>\n",
       "    <tr>\n",
       "      <th>max</th>\n",
       "      <td>2016.000000</td>\n",
       "      <td>41.360000</td>\n",
       "      <td>28.960000</td>\n",
       "      <td>10.220000</td>\n",
       "      <td>10.570000</td>\n",
       "      <td>98.000000</td>\n",
       "    </tr>\n",
       "  </tbody>\n",
       "</table>\n",
       "</div>"
      ],
      "text/plain": [
       "       year_of_release      na_sales      eu_sales      jp_sales  \\\n",
       "count     16446.000000  16715.000000  16715.000000  16715.000000   \n",
       "mean       2006.484616      0.263377      0.145060      0.077617   \n",
       "std           5.877050      0.813604      0.503339      0.308853   \n",
       "min        1980.000000      0.000000      0.000000      0.000000   \n",
       "25%        2003.000000      0.000000      0.000000      0.000000   \n",
       "50%        2007.000000      0.080000      0.020000      0.000000   \n",
       "75%        2010.000000      0.240000      0.110000      0.040000   \n",
       "max        2016.000000     41.360000     28.960000     10.220000   \n",
       "\n",
       "        other_sales  critic_score  \n",
       "count  16715.000000   8137.000000  \n",
       "mean       0.047342     68.967679  \n",
       "std        0.186731     13.938165  \n",
       "min        0.000000     13.000000  \n",
       "25%        0.000000     60.000000  \n",
       "50%        0.010000     71.000000  \n",
       "75%        0.030000     79.000000  \n",
       "max       10.570000     98.000000  "
      ]
     },
     "metadata": {},
     "output_type": "display_data"
    },
    {
     "data": {
      "text/plain": [
       "count     10014\n",
       "unique       96\n",
       "top         tbd\n",
       "freq       2424\n",
       "Name: user_score, dtype: object"
      ]
     },
     "metadata": {},
     "output_type": "display_data"
    },
    {
     "data": {
      "text/plain": [
       "array(['Sports', 'Platform', 'Racing', 'Role-Playing', 'Puzzle', 'Misc',\n",
       "       'Shooter', 'Simulation', 'Action', 'Fighting', 'Adventure',\n",
       "       'Strategy', nan], dtype=object)"
      ]
     },
     "metadata": {},
     "output_type": "display_data"
    }
   ],
   "source": [
    "# Характерная гистограмма продаж\n",
    "games['na_sales'].hist(bins=50, range=(0,3))\n",
    "plt.title (\"Гистограмма распределения продаж na_sales\")\n",
    "plt.xlabel('Продано копий, млн.')\n",
    "plt.ylabel(\"Игр, шт.\")\n",
    "plt.show()\n",
    "\n",
    "# Характерная гистограмма скорингов\n",
    "games['critic_score'].hist(bins=30)\n",
    "plt.title (\"Гистограмма распределения скоринга критиков\")\n",
    "plt.xlabel('Оценка, бал')\n",
    "plt.ylabel(\"Оценок, шт.\")\n",
    "plt.show()\n",
    "\n",
    "# Стат. данные\n",
    "display(games.describe())\n",
    "# Отдельно для пользовательского скоринга\n",
    "display(games['user_score'].describe())\n",
    "# Какие бывают жанры\n",
    "display(games['genre'].unique())"
   ]
  },
  {
   "cell_type": "code",
   "execution_count": 6,
   "id": "304dd290",
   "metadata": {
    "scrolled": true
   },
   "outputs": [
    {
     "data": {
      "image/png": "[encoded data removed]",
      "text/plain": [
       "<Figure size 1800x720 with 2 Axes>"
      ]
     },
     "metadata": {
      "needs_background": "light"
     },
     "output_type": "display_data"
    }
   ],
   "source": [
    "msno.matrix(games, labels=True);\n",
    "plt.title (\"Пропуски по колонкам\");"
   ]
  },
  {
   "cell_type": "markdown",
   "id": "25a33991",
   "metadata": {},
   "source": [
    "Выводы по шагу 1:\n",
    "\n",
    "Получен массив данных games.csv, содержащий 16 715 строк с данными о продажах игр и описанием.\n",
    "\n",
    "    Name — название игры\n",
    "    Platform — платформа\n",
    "    Year_of_Release — год выпуска\n",
    "    Genre — жанр игры\n",
    "    NA_sales — продажи в Северной Америке (миллионы проданных копий)\n",
    "    EU_sales — продажи в Европе (миллионы проданных копий)\n",
    "    JP_sales — продажи в Японии (миллионы проданных копий)\n",
    "    Other_sales — продажи в других странах (миллионы проданных копий)\n",
    "    Critic_Score — оценка критиков (максимум 100)\n",
    "    User_Score — оценка пользователей (максимум 10)\n",
    "    Rating — рейтинг от организации ESRB (англ. Entertainment Software Rating Board). Эта ассоциация определяет рейтинг компьютерных игр и присваивает им подходящую возрастную категорию.\n",
    "\n",
    "При загрузке данных выявлено:\n",
    "\n",
    "    В названиях столбцов встречается верхний регистр. Устранено сразу, чтобы дальше не путаться.\n",
    "    Год релиза записан не в формате даты, а float, но пока это меня устраивает.\n",
    "    Пользовательский рейтинг представлен текстом за счет наличия большого количества записей со значением tbd (определить позднее). Т.е. по сути, это отсутствие данных. За счет этого остальные, числовые значения рейтинга теряют формат и неудобны к анализу. Заменить tbd на пропуск, колонку переформатировать во float.\n",
    "    Полные дубликаты отсутствуют, есть дубликаты в названиях игр, они объсняются тем, что одна и та же игра выходит на разных платформах, за счет чего для нее формируется несколько записей.\n",
    "    Значительное число пропусков, особенно в скоринге и рейтинге. Пропуски в скорингах связываю с тем, что пользователи и критики не оставили оценок на малопопулярные игры. Пропуски в рейтинге присущи старым играм и играм с низкой популярностью.\n",
    "    Два пропуска в названии игры - считаю можно удалить безболезненно.\n",
    "    Наибольшая проблема - отсутствие года релиза в 269 случаев. В некоторых случаях год релиза заложен в названии игры и его можно восстановить.\n",
    "    В жанре часто встречается Misc - типа иное, появился при категоризации при подготовке данных перед отправкой мне. Заменяю на None"
   ]
  },
  {
   "cell_type": "markdown",
   "id": "e95ebca7",
   "metadata": {},
   "source": [
    "#### Шаг 2. Подготовьте данные\n",
    "    Замените названия столбцов (приведите к нижнему регистру);\n",
    "    Преобразуйте данные в нужные типы. Опишите, в каких столбцах заменили тип данных и почему;\n",
    "    Обработайте пропуски при необходимости:\n",
    "    Объясните, почему заполнили пропуски определённым образом или почему не стали это делать;\n",
    "    Опишите причины, которые могли привести к пропускам;\n",
    "    Обратите внимание на аббревиатуру 'tbd' в столбце с оценкой пользователей. Отдельно разберите это значение и опишите, как его обработать;\n",
    "    Посчитайте суммарные продажи во всех регионах и запишите их в отдельный столбец."
   ]
  },
  {
   "cell_type": "code",
   "execution_count": 7,
   "id": "19c30bef",
   "metadata": {},
   "outputs": [],
   "source": [
    "games=games.dropna(subset=['name']) # Сбрасываем две записи с играми без названия\n",
    "games.loc[games['user_score']=='tbd', 'user_score']=None # Заменяем tbd на пропуск\n",
    "games.loc[games['genre']=='Misc', 'genre']=None # Заменяем Misc на пропуск\n",
    "games['user_score'] = pd.to_numeric(games['user_score']) # меняем формат user_score на флоат\n",
    "\n",
    "games['year'] = games['name'].str.extract(r'(\\d{4})', expand=False) # добавляем колонку год, который вытащили из названия игры\n",
    "games['year'] = pd.to_numeric(games['year'], errors='coerce') \n",
    "# Если year_of_release пустой, а year не пусто - берем данные из year и суем в year_of_release\n",
    "games.loc[(games['year_of_release'].isnull())&(games['year'].notnull()), ['year_of_release']]=games['year']\n",
    "del games['year'] # убираем ненужную теперь колонку\n",
    "\n",
    "games['sum_sales']=games['na_sales']+games['eu_sales']+games['jp_sales']+games['other_sales'] # считаем сумму продаж"
   ]
  },
  {
   "cell_type": "code",
   "execution_count": 8,
   "id": "000a05a1",
   "metadata": {},
   "outputs": [
    {
     "data": {
      "text/html": [
       "<div>\n",
       "<style scoped>\n",
       "    .dataframe tbody tr th:only-of-type {\n",
       "        vertical-align: middle;\n",
       "    }\n",
       "\n",
       "    .dataframe tbody tr th {\n",
       "        vertical-align: top;\n",
       "    }\n",
       "\n",
       "    .dataframe thead th {\n",
       "        text-align: right;\n",
       "    }\n",
       "</style>\n",
       "<table border=\"1\" class=\"dataframe\">\n",
       "  <thead>\n",
       "    <tr style=\"text-align: right;\">\n",
       "      <th></th>\n",
       "      <th>name</th>\n",
       "      <th>platform</th>\n",
       "      <th>year_of_release</th>\n",
       "      <th>genre</th>\n",
       "      <th>na_sales</th>\n",
       "      <th>eu_sales</th>\n",
       "      <th>jp_sales</th>\n",
       "      <th>other_sales</th>\n",
       "      <th>critic_score</th>\n",
       "      <th>user_score</th>\n",
       "      <th>rating</th>\n",
       "      <th>sum_sales</th>\n",
       "    </tr>\n",
       "  </thead>\n",
       "  <tbody>\n",
       "    <tr>\n",
       "      <th>0</th>\n",
       "      <td>Wii Sports</td>\n",
       "      <td>Wii</td>\n",
       "      <td>2006.0</td>\n",
       "      <td>Sports</td>\n",
       "      <td>41.36</td>\n",
       "      <td>28.96</td>\n",
       "      <td>3.77</td>\n",
       "      <td>8.45</td>\n",
       "      <td>76.0</td>\n",
       "      <td>8.0</td>\n",
       "      <td>E</td>\n",
       "      <td>82.54</td>\n",
       "    </tr>\n",
       "    <tr>\n",
       "      <th>1</th>\n",
       "      <td>Super Mario Bros.</td>\n",
       "      <td>NES</td>\n",
       "      <td>1985.0</td>\n",
       "      <td>Platform</td>\n",
       "      <td>29.08</td>\n",
       "      <td>3.58</td>\n",
       "      <td>6.81</td>\n",
       "      <td>0.77</td>\n",
       "      <td>NaN</td>\n",
       "      <td>NaN</td>\n",
       "      <td>NaN</td>\n",
       "      <td>40.24</td>\n",
       "    </tr>\n",
       "    <tr>\n",
       "      <th>2</th>\n",
       "      <td>Mario Kart Wii</td>\n",
       "      <td>Wii</td>\n",
       "      <td>2008.0</td>\n",
       "      <td>Racing</td>\n",
       "      <td>15.68</td>\n",
       "      <td>12.76</td>\n",
       "      <td>3.79</td>\n",
       "      <td>3.29</td>\n",
       "      <td>82.0</td>\n",
       "      <td>8.3</td>\n",
       "      <td>E</td>\n",
       "      <td>35.52</td>\n",
       "    </tr>\n",
       "    <tr>\n",
       "      <th>3</th>\n",
       "      <td>Wii Sports Resort</td>\n",
       "      <td>Wii</td>\n",
       "      <td>2009.0</td>\n",
       "      <td>Sports</td>\n",
       "      <td>15.61</td>\n",
       "      <td>10.93</td>\n",
       "      <td>3.28</td>\n",
       "      <td>2.95</td>\n",
       "      <td>80.0</td>\n",
       "      <td>8.0</td>\n",
       "      <td>E</td>\n",
       "      <td>32.77</td>\n",
       "    </tr>\n",
       "    <tr>\n",
       "      <th>4</th>\n",
       "      <td>Pokemon Red/Pokemon Blue</td>\n",
       "      <td>GB</td>\n",
       "      <td>1996.0</td>\n",
       "      <td>Role-Playing</td>\n",
       "      <td>11.27</td>\n",
       "      <td>8.89</td>\n",
       "      <td>10.22</td>\n",
       "      <td>1.00</td>\n",
       "      <td>NaN</td>\n",
       "      <td>NaN</td>\n",
       "      <td>NaN</td>\n",
       "      <td>31.38</td>\n",
       "    </tr>\n",
       "  </tbody>\n",
       "</table>\n",
       "</div>"
      ],
      "text/plain": [
       "                       name platform  year_of_release         genre  na_sales  \\\n",
       "0                Wii Sports      Wii           2006.0        Sports     41.36   \n",
       "1         Super Mario Bros.      NES           1985.0      Platform     29.08   \n",
       "2            Mario Kart Wii      Wii           2008.0        Racing     15.68   \n",
       "3         Wii Sports Resort      Wii           2009.0        Sports     15.61   \n",
       "4  Pokemon Red/Pokemon Blue       GB           1996.0  Role-Playing     11.27   \n",
       "\n",
       "   eu_sales  jp_sales  other_sales  critic_score  user_score rating  sum_sales  \n",
       "0     28.96      3.77         8.45          76.0         8.0      E      82.54  \n",
       "1      3.58      6.81         0.77           NaN         NaN    NaN      40.24  \n",
       "2     12.76      3.79         3.29          82.0         8.3      E      35.52  \n",
       "3     10.93      3.28         2.95          80.0         8.0      E      32.77  \n",
       "4      8.89     10.22         1.00           NaN         NaN    NaN      31.38  "
      ]
     },
     "metadata": {},
     "output_type": "display_data"
    },
    {
     "name": "stdout",
     "output_type": "stream",
     "text": [
      "<class 'pandas.core.frame.DataFrame'>\n",
      "Int64Index: 16713 entries, 0 to 16714\n",
      "Data columns (total 12 columns):\n",
      " #   Column           Non-Null Count  Dtype  \n",
      "---  ------           --------------  -----  \n",
      " 0   name             16713 non-null  object \n",
      " 1   platform         16713 non-null  object \n",
      " 2   year_of_release  16461 non-null  float64\n",
      " 3   genre            14963 non-null  object \n",
      " 4   na_sales         16713 non-null  float64\n",
      " 5   eu_sales         16713 non-null  float64\n",
      " 6   jp_sales         16713 non-null  float64\n",
      " 7   other_sales      16713 non-null  float64\n",
      " 8   critic_score     8137 non-null   float64\n",
      " 9   user_score       7590 non-null   float64\n",
      " 10  rating           9949 non-null   object \n",
      " 11  sum_sales        16713 non-null  float64\n",
      "dtypes: float64(8), object(4)\n",
      "memory usage: 2.2+ MB\n"
     ]
    },
    {
     "data": {
      "text/plain": [
       "None"
      ]
     },
     "metadata": {},
     "output_type": "display_data"
    },
    {
     "data": {
      "text/plain": [
       "name                  0\n",
       "platform              0\n",
       "year_of_release     252\n",
       "genre              1750\n",
       "na_sales              0\n",
       "eu_sales              0\n",
       "jp_sales              0\n",
       "other_sales           0\n",
       "critic_score       8576\n",
       "user_score         9123\n",
       "rating             6764\n",
       "sum_sales             0\n",
       "dtype: int64"
      ]
     },
     "metadata": {},
     "output_type": "display_data"
    }
   ],
   "source": [
    "display(games.head(5))\n",
    "display(games.info())\n",
    "display(games.isna().sum())"
   ]
  },
  {
   "cell_type": "markdown",
   "id": "adc44e5e",
   "metadata": {},
   "source": [
    "Выводы по шагу 2:\n",
    "\n",
    "    Выброшены 2 записи игр без названий\n",
    "    Год релиза восстановлен для 17 игр. Не знаю, если стоило заморачиваться.\n",
    "    В поле user_score записи со значением tbd заменены на пропуски, формат данных переведен во float\n",
    "    В поле genre значение Misc заменено на None\n",
    "    Пропуски в рейтингах и скорингах оставлены без изменений, чтобы не искажать данные\n",
    "    Добавлен столбец с суммарными продажами sum_sales    \n",
    "\n",
    "Считаю, что причины возникновения пропусков:\n",
    "    \n",
    "    - name - единичные пропуски, скорее всего связаны с неполным/некорректным заполнением данных на сайте магазина вручную\n",
    "    - year_of_release - тоже немного пропусков, опять же скорее неаккуратность при заполнении данных на сайте магазина.\n",
    "    - genre - невнимательность при заполнении карточки игры в магазине, сложность определения жанровой принадлежности, отсутствие указания жанра игры в описании, полученном от производителя.\n",
    "    - critic_score - игры без оценок просто не проходили критиков в отчетный период (время вывешивания игры на сайте). Непопулярные/новые/старые и т.п. Потенциально может быть проблема в скриптах сбора оценок критиков для сайта со сторонних источников, или выбор аггрегатора отзывов, где много пропусков.\n",
    "    - user_score - игры без оценок не получали отзывов от игроков в отчетный период (время вывешивания игры на сайте) по причине малой продаваемости/популярности/возраста.\n",
    "    - rating - по каким то причинам игры не попали в рассмотрение Entertainment Software Rating Board. Причины те же - старые, новые, не популярные, политика компании по принятию игр к рассмотрению.\n",
    "    \n",
    "Замены обусловлены:\n",
    "    \n",
    "    - Замена user_score tbd (определить позже) на пропуск ввиду полной аналогии этих значений и большего удобства обработки пропуска, нежели tbd.\n",
    "    - Замена genre Msc (иное) на пропуск ввиду полной смысловой аналогии этих значений и большего удобства обработки пропуска, чем Msc"
   ]
  },
  {
   "cell_type": "markdown",
   "id": "212593c7",
   "metadata": {},
   "source": [
    "#### Шаг 3. Проведите исследовательский анализ данных\n",
    "    1. Посмотрите, сколько игр выпускалось в разные годы. Важны ли данные за все периоды?\n",
    "    2. Посмотрите, как менялись продажи по платформам. Выберите платформы с наибольшими суммарными продажами и постройте распределение по годам. За какой характерный срок появляются новые и исчезают старые платформы?\n",
    "    3. Возьмите данные за соответствующий актуальный период. Актуальный период определите самостоятельно в результате исследования предыдущих вопросов. Основной фактор — эти данные помогут построить прогноз на 2017 год.\n",
    "    4. Не учитывайте в работе данные за предыдущие годы.\n",
    "    5. Какие платформы лидируют по продажам, растут или падают? Выберите несколько потенциально прибыльных платформ.\n",
    "    6. Постройте график «ящик с усами» по глобальным продажам игр в разбивке по платформам. Опишите результат.\n",
    "    7. Посмотрите, как влияют на продажи внутри одной популярной платформы отзывы пользователей и критиков. Постройте диаграмму рассеяния и посчитайте корреляцию между отзывами и продажами. Сформулируйте выводы.\n",
    "    8. Соотнесите выводы с продажами игр на других платформах.\n",
    "    9. Посмотрите на общее распределение игр по жанрам. Что можно сказать о самых прибыльных жанрах? Выделяются ли жанры с высокими и низкими продажами?"
   ]
  },
  {
   "cell_type": "markdown",
   "id": "e9f9c0f3",
   "metadata": {},
   "source": [
    "##### Вопрос 1. Посмотрите, сколько игр выпускалось в разные годы. Важны ли данные за все периоды?"
   ]
  },
  {
   "cell_type": "code",
   "execution_count": 9,
   "id": "cdd8d734",
   "metadata": {
    "scrolled": true
   },
   "outputs": [
    {
     "data": {
      "image/png": "[encoded data removed]",
      "text/plain": [
       "<Figure size 432x288 with 1 Axes>"
      ]
     },
     "metadata": {
      "needs_background": "light"
     },
     "output_type": "display_data"
    },
    {
     "data": {
      "image/png": "[encoded data removed]",
      "text/plain": [
       "<Figure size 432x288 with 1 Axes>"
      ]
     },
     "metadata": {
      "needs_background": "light"
     },
     "output_type": "display_data"
    }
   ],
   "source": [
    "games.pivot_table(index='year_of_release', values='name', aggfunc='count').plot(kind='bar')\n",
    "plt.title (\"Гистограмма распределения игр по году релиза\")\n",
    "plt.xlabel('Год релиза')\n",
    "plt.ylabel(\"Кол-во игр, шт\")\n",
    "plt.show()\n",
    "\n",
    "games.pivot_table(index='year_of_release', values='sum_sales', aggfunc='sum').plot(kind='bar')\n",
    "plt.title (\"Гистограмма распределения объемов продаж по годам\")\n",
    "plt.xlabel('Год')\n",
    "plt.ylabel(\"Кол-во, шт\")\n",
    "plt.show()"
   ]
  },
  {
   "cell_type": "markdown",
   "id": "29171412",
   "metadata": {},
   "source": [
    "Ответ на вопрос 1: Пик производства игр пришелся на 2008-2009 годы, дальше практически двукратное снижение количества релизов к 2012 году. Откат к 2015 и потом снова падение. Если смотреть на объемы продаж по годам релиза - это крах. Поэтому 2017 - год неопределенности. Либо индустрия найдет выход (скорее всего), либо продолжит падение. Анализировать ситуацию до 2010 года нет смысла."
   ]
  },
  {
   "cell_type": "markdown",
   "id": "3c8d25a5",
   "metadata": {},
   "source": [
    "##### Вопрос 2. Посмотрите, как менялись продажи по платформам. Выберите платформы с наибольшими суммарными продажами и постройте распределение по годам. За какой характерный срок появляются новые и исчезают старые платформы?\n",
    "##### Вопрос 3. Возьмите данные за соответствующий актуальный период. Актуальный период определите самостоятельно в результате исследования предыдущих вопросов. Основной фактор — эти данные помогут построить прогноз на 2017 год.\n",
    "##### Вопрос 4. Не учитывайте в работе данные за предыдущие годы.\n",
    "##### Вопрос 5. Какие платформы лидируют по продажам, растут или падают? Выберите несколько потенциально прибыльных платформ."
   ]
  },
  {
   "cell_type": "markdown",
   "id": "9d852ca4",
   "metadata": {},
   "source": [
    "Все скопом, поскольку на пересекающихся действиях основаны."
   ]
  },
  {
   "cell_type": "code",
   "execution_count": 10,
   "id": "153d8439",
   "metadata": {},
   "outputs": [
    {
     "data": {
      "text/html": [
       "<div>\n",
       "<style scoped>\n",
       "    .dataframe tbody tr th:only-of-type {\n",
       "        vertical-align: middle;\n",
       "    }\n",
       "\n",
       "    .dataframe tbody tr th {\n",
       "        vertical-align: top;\n",
       "    }\n",
       "\n",
       "    .dataframe thead th {\n",
       "        text-align: right;\n",
       "    }\n",
       "</style>\n",
       "<table border=\"1\" class=\"dataframe\">\n",
       "  <thead>\n",
       "    <tr style=\"text-align: right;\">\n",
       "      <th></th>\n",
       "      <th>name</th>\n",
       "      <th>start</th>\n",
       "      <th>end</th>\n",
       "      <th>sales</th>\n",
       "      <th>releases</th>\n",
       "      <th>life</th>\n",
       "      <th>sales_per_year</th>\n",
       "    </tr>\n",
       "  </thead>\n",
       "  <tbody>\n",
       "    <tr>\n",
       "      <th>6</th>\n",
       "      <td>PS2</td>\n",
       "      <td>2000.0</td>\n",
       "      <td>2011.0</td>\n",
       "      <td>1255.77</td>\n",
       "      <td>2134</td>\n",
       "      <td>11.0</td>\n",
       "      <td>0.008760</td>\n",
       "    </tr>\n",
       "    <tr>\n",
       "      <th>4</th>\n",
       "      <td>X360</td>\n",
       "      <td>2005.0</td>\n",
       "      <td>2016.0</td>\n",
       "      <td>971.42</td>\n",
       "      <td>1234</td>\n",
       "      <td>11.0</td>\n",
       "      <td>0.011324</td>\n",
       "    </tr>\n",
       "    <tr>\n",
       "      <th>5</th>\n",
       "      <td>PS3</td>\n",
       "      <td>2006.0</td>\n",
       "      <td>2016.0</td>\n",
       "      <td>939.65</td>\n",
       "      <td>1306</td>\n",
       "      <td>10.0</td>\n",
       "      <td>0.010642</td>\n",
       "    </tr>\n",
       "    <tr>\n",
       "      <th>0</th>\n",
       "      <td>Wii</td>\n",
       "      <td>2006.0</td>\n",
       "      <td>2016.0</td>\n",
       "      <td>907.51</td>\n",
       "      <td>1286</td>\n",
       "      <td>10.0</td>\n",
       "      <td>0.011019</td>\n",
       "    </tr>\n",
       "    <tr>\n",
       "      <th>3</th>\n",
       "      <td>DS</td>\n",
       "      <td>1985.0</td>\n",
       "      <td>2013.0</td>\n",
       "      <td>806.12</td>\n",
       "      <td>2122</td>\n",
       "      <td>28.0</td>\n",
       "      <td>0.034734</td>\n",
       "    </tr>\n",
       "    <tr>\n",
       "      <th>12</th>\n",
       "      <td>PS</td>\n",
       "      <td>1994.0</td>\n",
       "      <td>2003.0</td>\n",
       "      <td>730.86</td>\n",
       "      <td>1190</td>\n",
       "      <td>9.0</td>\n",
       "      <td>0.012314</td>\n",
       "    </tr>\n",
       "    <tr>\n",
       "      <th>8</th>\n",
       "      <td>GBA</td>\n",
       "      <td>2000.0</td>\n",
       "      <td>2007.0</td>\n",
       "      <td>317.85</td>\n",
       "      <td>811</td>\n",
       "      <td>7.0</td>\n",
       "      <td>0.022023</td>\n",
       "    </tr>\n",
       "    <tr>\n",
       "      <th>9</th>\n",
       "      <td>PS4</td>\n",
       "      <td>2013.0</td>\n",
       "      <td>2016.0</td>\n",
       "      <td>314.14</td>\n",
       "      <td>392</td>\n",
       "      <td>3.0</td>\n",
       "      <td>0.009550</td>\n",
       "    </tr>\n",
       "    <tr>\n",
       "      <th>16</th>\n",
       "      <td>PSP</td>\n",
       "      <td>2004.0</td>\n",
       "      <td>2015.0</td>\n",
       "      <td>294.05</td>\n",
       "      <td>1195</td>\n",
       "      <td>11.0</td>\n",
       "      <td>0.037409</td>\n",
       "    </tr>\n",
       "    <tr>\n",
       "      <th>14</th>\n",
       "      <td>PC</td>\n",
       "      <td>1985.0</td>\n",
       "      <td>2016.0</td>\n",
       "      <td>259.52</td>\n",
       "      <td>958</td>\n",
       "      <td>31.0</td>\n",
       "      <td>0.119451</td>\n",
       "    </tr>\n",
       "    <tr>\n",
       "      <th>10</th>\n",
       "      <td>3DS</td>\n",
       "      <td>2011.0</td>\n",
       "      <td>2016.0</td>\n",
       "      <td>259.00</td>\n",
       "      <td>512</td>\n",
       "      <td>5.0</td>\n",
       "      <td>0.019305</td>\n",
       "    </tr>\n",
       "    <tr>\n",
       "      <th>13</th>\n",
       "      <td>XB</td>\n",
       "      <td>2000.0</td>\n",
       "      <td>2008.0</td>\n",
       "      <td>257.74</td>\n",
       "      <td>806</td>\n",
       "      <td>8.0</td>\n",
       "      <td>0.031039</td>\n",
       "    </tr>\n",
       "    <tr>\n",
       "      <th>2</th>\n",
       "      <td>GB</td>\n",
       "      <td>1988.0</td>\n",
       "      <td>2001.0</td>\n",
       "      <td>255.46</td>\n",
       "      <td>97</td>\n",
       "      <td>13.0</td>\n",
       "      <td>0.050889</td>\n",
       "    </tr>\n",
       "    <tr>\n",
       "      <th>1</th>\n",
       "      <td>NES</td>\n",
       "      <td>1983.0</td>\n",
       "      <td>1994.0</td>\n",
       "      <td>251.05</td>\n",
       "      <td>98</td>\n",
       "      <td>11.0</td>\n",
       "      <td>0.043816</td>\n",
       "    </tr>\n",
       "    <tr>\n",
       "      <th>11</th>\n",
       "      <td>N64</td>\n",
       "      <td>1996.0</td>\n",
       "      <td>2002.0</td>\n",
       "      <td>218.68</td>\n",
       "      <td>316</td>\n",
       "      <td>6.0</td>\n",
       "      <td>0.027437</td>\n",
       "    </tr>\n",
       "    <tr>\n",
       "      <th>7</th>\n",
       "      <td>SNES</td>\n",
       "      <td>1990.0</td>\n",
       "      <td>1999.0</td>\n",
       "      <td>200.04</td>\n",
       "      <td>239</td>\n",
       "      <td>9.0</td>\n",
       "      <td>0.044991</td>\n",
       "    </tr>\n",
       "    <tr>\n",
       "      <th>19</th>\n",
       "      <td>GC</td>\n",
       "      <td>2001.0</td>\n",
       "      <td>2007.0</td>\n",
       "      <td>198.93</td>\n",
       "      <td>543</td>\n",
       "      <td>6.0</td>\n",
       "      <td>0.030161</td>\n",
       "    </tr>\n",
       "    <tr>\n",
       "      <th>17</th>\n",
       "      <td>XOne</td>\n",
       "      <td>2013.0</td>\n",
       "      <td>2016.0</td>\n",
       "      <td>159.32</td>\n",
       "      <td>247</td>\n",
       "      <td>3.0</td>\n",
       "      <td>0.018830</td>\n",
       "    </tr>\n",
       "    <tr>\n",
       "      <th>15</th>\n",
       "      <td>2600</td>\n",
       "      <td>1980.0</td>\n",
       "      <td>1989.0</td>\n",
       "      <td>96.98</td>\n",
       "      <td>116</td>\n",
       "      <td>9.0</td>\n",
       "      <td>0.092803</td>\n",
       "    </tr>\n",
       "    <tr>\n",
       "      <th>18</th>\n",
       "      <td>WiiU</td>\n",
       "      <td>2012.0</td>\n",
       "      <td>2016.0</td>\n",
       "      <td>82.19</td>\n",
       "      <td>147</td>\n",
       "      <td>4.0</td>\n",
       "      <td>0.048668</td>\n",
       "    </tr>\n",
       "    <tr>\n",
       "      <th>22</th>\n",
       "      <td>PSV</td>\n",
       "      <td>2011.0</td>\n",
       "      <td>2016.0</td>\n",
       "      <td>54.07</td>\n",
       "      <td>429</td>\n",
       "      <td>5.0</td>\n",
       "      <td>0.092473</td>\n",
       "    </tr>\n",
       "    <tr>\n",
       "      <th>23</th>\n",
       "      <td>SAT</td>\n",
       "      <td>1994.0</td>\n",
       "      <td>1999.0</td>\n",
       "      <td>33.59</td>\n",
       "      <td>173</td>\n",
       "      <td>5.0</td>\n",
       "      <td>0.148854</td>\n",
       "    </tr>\n",
       "    <tr>\n",
       "      <th>20</th>\n",
       "      <td>GEN</td>\n",
       "      <td>1990.0</td>\n",
       "      <td>1994.0</td>\n",
       "      <td>28.35</td>\n",
       "      <td>27</td>\n",
       "      <td>4.0</td>\n",
       "      <td>0.141093</td>\n",
       "    </tr>\n",
       "    <tr>\n",
       "      <th>21</th>\n",
       "      <td>DC</td>\n",
       "      <td>1998.0</td>\n",
       "      <td>2008.0</td>\n",
       "      <td>15.95</td>\n",
       "      <td>52</td>\n",
       "      <td>10.0</td>\n",
       "      <td>0.626959</td>\n",
       "    </tr>\n",
       "    <tr>\n",
       "      <th>24</th>\n",
       "      <td>SCD</td>\n",
       "      <td>1993.0</td>\n",
       "      <td>1994.0</td>\n",
       "      <td>1.86</td>\n",
       "      <td>6</td>\n",
       "      <td>1.0</td>\n",
       "      <td>0.537634</td>\n",
       "    </tr>\n",
       "    <tr>\n",
       "      <th>26</th>\n",
       "      <td>NG</td>\n",
       "      <td>1993.0</td>\n",
       "      <td>1996.0</td>\n",
       "      <td>1.44</td>\n",
       "      <td>12</td>\n",
       "      <td>3.0</td>\n",
       "      <td>2.083333</td>\n",
       "    </tr>\n",
       "    <tr>\n",
       "      <th>25</th>\n",
       "      <td>WS</td>\n",
       "      <td>1999.0</td>\n",
       "      <td>2001.0</td>\n",
       "      <td>1.42</td>\n",
       "      <td>6</td>\n",
       "      <td>2.0</td>\n",
       "      <td>1.408451</td>\n",
       "    </tr>\n",
       "    <tr>\n",
       "      <th>27</th>\n",
       "      <td>TG16</td>\n",
       "      <td>1995.0</td>\n",
       "      <td>1995.0</td>\n",
       "      <td>0.16</td>\n",
       "      <td>2</td>\n",
       "      <td>0.0</td>\n",
       "      <td>0.000000</td>\n",
       "    </tr>\n",
       "    <tr>\n",
       "      <th>28</th>\n",
       "      <td>3DO</td>\n",
       "      <td>1994.0</td>\n",
       "      <td>1995.0</td>\n",
       "      <td>0.10</td>\n",
       "      <td>3</td>\n",
       "      <td>1.0</td>\n",
       "      <td>10.000000</td>\n",
       "    </tr>\n",
       "    <tr>\n",
       "      <th>29</th>\n",
       "      <td>GG</td>\n",
       "      <td>1992.0</td>\n",
       "      <td>1992.0</td>\n",
       "      <td>0.04</td>\n",
       "      <td>1</td>\n",
       "      <td>0.0</td>\n",
       "      <td>0.000000</td>\n",
       "    </tr>\n",
       "    <tr>\n",
       "      <th>30</th>\n",
       "      <td>PCFX</td>\n",
       "      <td>1996.0</td>\n",
       "      <td>1996.0</td>\n",
       "      <td>0.03</td>\n",
       "      <td>1</td>\n",
       "      <td>0.0</td>\n",
       "      <td>0.000000</td>\n",
       "    </tr>\n",
       "  </tbody>\n",
       "</table>\n",
       "</div>"
      ],
      "text/plain": [
       "    name   start     end    sales  releases  life  sales_per_year\n",
       "6    PS2  2000.0  2011.0  1255.77      2134  11.0        0.008760\n",
       "4   X360  2005.0  2016.0   971.42      1234  11.0        0.011324\n",
       "5    PS3  2006.0  2016.0   939.65      1306  10.0        0.010642\n",
       "0    Wii  2006.0  2016.0   907.51      1286  10.0        0.011019\n",
       "3     DS  1985.0  2013.0   806.12      2122  28.0        0.034734\n",
       "12    PS  1994.0  2003.0   730.86      1190   9.0        0.012314\n",
       "8    GBA  2000.0  2007.0   317.85       811   7.0        0.022023\n",
       "9    PS4  2013.0  2016.0   314.14       392   3.0        0.009550\n",
       "16   PSP  2004.0  2015.0   294.05      1195  11.0        0.037409\n",
       "14    PC  1985.0  2016.0   259.52       958  31.0        0.119451\n",
       "10   3DS  2011.0  2016.0   259.00       512   5.0        0.019305\n",
       "13    XB  2000.0  2008.0   257.74       806   8.0        0.031039\n",
       "2     GB  1988.0  2001.0   255.46        97  13.0        0.050889\n",
       "1    NES  1983.0  1994.0   251.05        98  11.0        0.043816\n",
       "11   N64  1996.0  2002.0   218.68       316   6.0        0.027437\n",
       "7   SNES  1990.0  1999.0   200.04       239   9.0        0.044991\n",
       "19    GC  2001.0  2007.0   198.93       543   6.0        0.030161\n",
       "17  XOne  2013.0  2016.0   159.32       247   3.0        0.018830\n",
       "15  2600  1980.0  1989.0    96.98       116   9.0        0.092803\n",
       "18  WiiU  2012.0  2016.0    82.19       147   4.0        0.048668\n",
       "22   PSV  2011.0  2016.0    54.07       429   5.0        0.092473\n",
       "23   SAT  1994.0  1999.0    33.59       173   5.0        0.148854\n",
       "20   GEN  1990.0  1994.0    28.35        27   4.0        0.141093\n",
       "21    DC  1998.0  2008.0    15.95        52  10.0        0.626959\n",
       "24   SCD  1993.0  1994.0     1.86         6   1.0        0.537634\n",
       "26    NG  1993.0  1996.0     1.44        12   3.0        2.083333\n",
       "25    WS  1999.0  2001.0     1.42         6   2.0        1.408451\n",
       "27  TG16  1995.0  1995.0     0.16         2   0.0        0.000000\n",
       "28   3DO  1994.0  1995.0     0.10         3   1.0       10.000000\n",
       "29    GG  1992.0  1992.0     0.04         1   0.0        0.000000\n",
       "30  PCFX  1996.0  1996.0     0.03         1   0.0        0.000000"
      ]
     },
     "metadata": {},
     "output_type": "display_data"
    }
   ],
   "source": [
    "# Делаем сводную табличку - платформа - первый релиз - последний релиз - продажи - время жизни - продажи/год\n",
    "platform_names=games['platform'].unique()\n",
    "yearstart=[]\n",
    "yearend=[]\n",
    "sum_sales=[]\n",
    "releases=[]\n",
    "for name in platform_names:\n",
    "    yearstart.append(games[games['platform']==name]['year_of_release'].min())\n",
    "    yearend.append(games[games['platform']==name]['year_of_release'].max())\n",
    "    sum_sales.append(games[games['platform']==name]['sum_sales'].sum())\n",
    "    releases.append(games[games['platform']==name]['year_of_release'].count())\n",
    "\n",
    "platforms_data = pd.DataFrame({'name':platform_names,'start':yearstart, 'end':yearend, 'sales':sum_sales, 'releases':releases})\n",
    "platforms_data['life']=platforms_data['end']-platforms_data['start']\n",
    "platforms_data['sales_per_year']=platforms_data['life']/platforms_data['sales']\n",
    "display(platforms_data.sort_values('sales', ascending=False))"
   ]
  },
  {
   "cell_type": "code",
   "execution_count": 11,
   "id": "706c4d2d",
   "metadata": {
    "scrolled": false
   },
   "outputs": [
    {
     "data": {
      "image/png": "[encoded data removed]",
      "text/plain": [
       "<Figure size 432x288 with 1 Axes>"
      ]
     },
     "metadata": {
      "needs_background": "light"
     },
     "output_type": "display_data"
    }
   ],
   "source": [
    "# выбираем самые прибыльные платформы \n",
    "top10_platforms=games.pivot_table(index='platform', values='sum_sales', aggfunc='sum').sort_values('sum_sales', ascending=False).head(10) \n",
    "top10_platforms=top10_platforms.index\n",
    "top10_platforms = pd.DataFrame({'platform':top10_platforms})\n",
    "games_on_top10_platforms=games.merge(top10_platforms, on='platform')\n",
    "#display(games_on_top10_platforms.head(5))\n",
    "\n",
    "# По актуальным платформам собираем данные о продажах в одну таблицу и печатаем ее в виде графика\n",
    "top10_pf=games_on_top10_platforms.pivot_table(index='platform', values='sum_sales', columns='year_of_release', aggfunc='sum').T\n",
    "top10_pf.plot(style='o-', xlabel='год', ylabel='продажи, млн. копий', title='Продажи по времени для top10 прибыльных платформ');"
   ]
  },
  {
   "cell_type": "code",
   "execution_count": 12,
   "id": "7c005b08",
   "metadata": {
    "scrolled": false
   },
   "outputs": [
    {
     "data": {
      "image/png": "[encoded data removed]",
      "text/plain": [
       "<Figure size 432x288 with 1 Axes>"
      ]
     },
     "metadata": {
      "needs_background": "light"
     },
     "output_type": "display_data"
    }
   ],
   "source": [
    "# Выбираем актуальные платформы, т.е. те, на которых есть релизы в 2016 году.\n",
    "actual_platforms=games[games['year_of_release']==2016]['platform'].unique() # Выбрали названия таких платформ\n",
    "actual_platforms = pd.DataFrame({'platform':actual_platforms}) #сделали из них фрейм\n",
    "games_on_actual_platforms=games.merge(actual_platforms, on='platform') # слили с основным фреймом попутно выбросив все остальные данные\n",
    "#display(games_on_actual_platforms.sort_values('sum_sales', ascending=False).head(5))\n",
    "\n",
    "# По актуальным платформам собираем данные о продажах в одну таблицу и печатаем ее в виде графика\n",
    "act_pf=games_on_actual_platforms.pivot_table(index='platform', values='sum_sales', columns='year_of_release', aggfunc='sum').T\n",
    "act_pf.plot(xlim=(2010, 2016), style='o-', xlabel='год', ylabel='продажи, млн. копий', title='Продажи по времени для актуальных платформ');"
   ]
  },
  {
   "cell_type": "code",
   "execution_count": 13,
   "id": "839d01d9",
   "metadata": {
    "scrolled": true
   },
   "outputs": [
    {
     "data": {
      "image/png": "[encoded data removed]",
      "text/plain": [
       "<Figure size 432x288 with 1 Axes>"
      ]
     },
     "metadata": {
      "needs_background": "light"
     },
     "output_type": "display_data"
    },
    {
     "data": {
      "image/png": "[encoded data removed]",
      "text/plain": [
       "<Figure size 432x288 with 1 Axes>"
      ]
     },
     "metadata": {
      "needs_background": "light"
     },
     "output_type": "display_data"
    }
   ],
   "source": [
    "# строим график времени жизни актуальных платформ\n",
    "platforms_data[platforms_data['end']==2016].sort_values('life', ascending=False).plot('name', 'life', kind='bar');\n",
    "plt.xticks(rotation=90);\n",
    "plt.title (\"Время жизни актуальной игровой платформы, лет\");\n",
    "plt.xlabel(\"Платформа\");\n",
    "plt.ylabel(\"Лет\");\n",
    "plt.show()\n",
    "\n",
    "# строим график времени объема продаж на актуальных платформах\n",
    "platforms_data[platforms_data['end']==2016].sort_values('life', ascending=False).plot('name', 'sales', kind='bar');\n",
    "plt.title (\"Объем продаж на актуальных платформах\");\n",
    "plt.xlabel(\"Платформа\");\n",
    "plt.ylabel(\"Млн. инст.\");\n",
    "plt.show()"
   ]
  },
  {
   "cell_type": "code",
   "execution_count": 14,
   "id": "a65463fd",
   "metadata": {},
   "outputs": [
    {
     "data": {
      "text/html": [
       "<div>\n",
       "<style scoped>\n",
       "    .dataframe tbody tr th:only-of-type {\n",
       "        vertical-align: middle;\n",
       "    }\n",
       "\n",
       "    .dataframe tbody tr th {\n",
       "        vertical-align: top;\n",
       "    }\n",
       "\n",
       "    .dataframe thead th {\n",
       "        text-align: right;\n",
       "    }\n",
       "</style>\n",
       "<table border=\"1\" class=\"dataframe\">\n",
       "  <thead>\n",
       "    <tr style=\"text-align: right;\">\n",
       "      <th></th>\n",
       "      <th>name</th>\n",
       "      <th>platform</th>\n",
       "      <th>year_of_release</th>\n",
       "      <th>genre</th>\n",
       "      <th>na_sales</th>\n",
       "      <th>eu_sales</th>\n",
       "      <th>jp_sales</th>\n",
       "      <th>other_sales</th>\n",
       "      <th>critic_score</th>\n",
       "      <th>user_score</th>\n",
       "      <th>rating</th>\n",
       "      <th>sum_sales</th>\n",
       "    </tr>\n",
       "  </thead>\n",
       "  <tbody>\n",
       "    <tr>\n",
       "      <th>16</th>\n",
       "      <td>Grand Theft Auto V</td>\n",
       "      <td>PS3</td>\n",
       "      <td>2013.0</td>\n",
       "      <td>Action</td>\n",
       "      <td>7.02</td>\n",
       "      <td>9.09</td>\n",
       "      <td>0.98</td>\n",
       "      <td>3.96</td>\n",
       "      <td>97.0</td>\n",
       "      <td>8.2</td>\n",
       "      <td>M</td>\n",
       "      <td>21.05</td>\n",
       "    </tr>\n",
       "    <tr>\n",
       "      <th>23</th>\n",
       "      <td>Grand Theft Auto V</td>\n",
       "      <td>X360</td>\n",
       "      <td>2013.0</td>\n",
       "      <td>Action</td>\n",
       "      <td>9.66</td>\n",
       "      <td>5.14</td>\n",
       "      <td>0.06</td>\n",
       "      <td>1.41</td>\n",
       "      <td>97.0</td>\n",
       "      <td>8.1</td>\n",
       "      <td>M</td>\n",
       "      <td>16.27</td>\n",
       "    </tr>\n",
       "    <tr>\n",
       "      <th>31</th>\n",
       "      <td>Call of Duty: Black Ops 3</td>\n",
       "      <td>PS4</td>\n",
       "      <td>2015.0</td>\n",
       "      <td>Shooter</td>\n",
       "      <td>6.03</td>\n",
       "      <td>5.86</td>\n",
       "      <td>0.36</td>\n",
       "      <td>2.38</td>\n",
       "      <td>NaN</td>\n",
       "      <td>NaN</td>\n",
       "      <td>NaN</td>\n",
       "      <td>14.63</td>\n",
       "    </tr>\n",
       "    <tr>\n",
       "      <th>33</th>\n",
       "      <td>Pokemon X/Pokemon Y</td>\n",
       "      <td>3DS</td>\n",
       "      <td>2013.0</td>\n",
       "      <td>Role-Playing</td>\n",
       "      <td>5.28</td>\n",
       "      <td>4.19</td>\n",
       "      <td>4.35</td>\n",
       "      <td>0.78</td>\n",
       "      <td>NaN</td>\n",
       "      <td>NaN</td>\n",
       "      <td>NaN</td>\n",
       "      <td>14.60</td>\n",
       "    </tr>\n",
       "    <tr>\n",
       "      <th>42</th>\n",
       "      <td>Grand Theft Auto V</td>\n",
       "      <td>PS4</td>\n",
       "      <td>2014.0</td>\n",
       "      <td>Action</td>\n",
       "      <td>3.96</td>\n",
       "      <td>6.31</td>\n",
       "      <td>0.38</td>\n",
       "      <td>1.97</td>\n",
       "      <td>97.0</td>\n",
       "      <td>8.3</td>\n",
       "      <td>M</td>\n",
       "      <td>12.62</td>\n",
       "    </tr>\n",
       "    <tr>\n",
       "      <th>47</th>\n",
       "      <td>Pokemon Omega Ruby/Pokemon Alpha Sapphire</td>\n",
       "      <td>3DS</td>\n",
       "      <td>2014.0</td>\n",
       "      <td>Role-Playing</td>\n",
       "      <td>4.35</td>\n",
       "      <td>3.49</td>\n",
       "      <td>3.10</td>\n",
       "      <td>0.74</td>\n",
       "      <td>NaN</td>\n",
       "      <td>NaN</td>\n",
       "      <td>NaN</td>\n",
       "      <td>11.68</td>\n",
       "    </tr>\n",
       "    <tr>\n",
       "      <th>60</th>\n",
       "      <td>Call of Duty: Ghosts</td>\n",
       "      <td>X360</td>\n",
       "      <td>2013.0</td>\n",
       "      <td>Shooter</td>\n",
       "      <td>6.73</td>\n",
       "      <td>2.56</td>\n",
       "      <td>0.04</td>\n",
       "      <td>0.91</td>\n",
       "      <td>73.0</td>\n",
       "      <td>2.6</td>\n",
       "      <td>M</td>\n",
       "      <td>10.24</td>\n",
       "    </tr>\n",
       "    <tr>\n",
       "      <th>69</th>\n",
       "      <td>Call of Duty: Ghosts</td>\n",
       "      <td>PS3</td>\n",
       "      <td>2013.0</td>\n",
       "      <td>Shooter</td>\n",
       "      <td>4.10</td>\n",
       "      <td>3.63</td>\n",
       "      <td>0.38</td>\n",
       "      <td>1.25</td>\n",
       "      <td>71.0</td>\n",
       "      <td>2.6</td>\n",
       "      <td>M</td>\n",
       "      <td>9.36</td>\n",
       "    </tr>\n",
       "    <tr>\n",
       "      <th>72</th>\n",
       "      <td>Minecraft</td>\n",
       "      <td>X360</td>\n",
       "      <td>2013.0</td>\n",
       "      <td>None</td>\n",
       "      <td>5.70</td>\n",
       "      <td>2.65</td>\n",
       "      <td>0.02</td>\n",
       "      <td>0.81</td>\n",
       "      <td>NaN</td>\n",
       "      <td>NaN</td>\n",
       "      <td>NaN</td>\n",
       "      <td>9.18</td>\n",
       "    </tr>\n",
       "    <tr>\n",
       "      <th>77</th>\n",
       "      <td>FIFA 16</td>\n",
       "      <td>PS4</td>\n",
       "      <td>2015.0</td>\n",
       "      <td>Sports</td>\n",
       "      <td>1.12</td>\n",
       "      <td>6.12</td>\n",
       "      <td>0.06</td>\n",
       "      <td>1.28</td>\n",
       "      <td>82.0</td>\n",
       "      <td>4.3</td>\n",
       "      <td>E</td>\n",
       "      <td>8.58</td>\n",
       "    </tr>\n",
       "  </tbody>\n",
       "</table>\n",
       "</div>"
      ],
      "text/plain": [
       "                                         name platform  year_of_release  \\\n",
       "16                         Grand Theft Auto V      PS3           2013.0   \n",
       "23                         Grand Theft Auto V     X360           2013.0   \n",
       "31                  Call of Duty: Black Ops 3      PS4           2015.0   \n",
       "33                        Pokemon X/Pokemon Y      3DS           2013.0   \n",
       "42                         Grand Theft Auto V      PS4           2014.0   \n",
       "47  Pokemon Omega Ruby/Pokemon Alpha Sapphire      3DS           2014.0   \n",
       "60                       Call of Duty: Ghosts     X360           2013.0   \n",
       "69                       Call of Duty: Ghosts      PS3           2013.0   \n",
       "72                                  Minecraft     X360           2013.0   \n",
       "77                                    FIFA 16      PS4           2015.0   \n",
       "\n",
       "           genre  na_sales  eu_sales  jp_sales  other_sales  critic_score  \\\n",
       "16        Action      7.02      9.09      0.98         3.96          97.0   \n",
       "23        Action      9.66      5.14      0.06         1.41          97.0   \n",
       "31       Shooter      6.03      5.86      0.36         2.38           NaN   \n",
       "33  Role-Playing      5.28      4.19      4.35         0.78           NaN   \n",
       "42        Action      3.96      6.31      0.38         1.97          97.0   \n",
       "47  Role-Playing      4.35      3.49      3.10         0.74           NaN   \n",
       "60       Shooter      6.73      2.56      0.04         0.91          73.0   \n",
       "69       Shooter      4.10      3.63      0.38         1.25          71.0   \n",
       "72          None      5.70      2.65      0.02         0.81           NaN   \n",
       "77        Sports      1.12      6.12      0.06         1.28          82.0   \n",
       "\n",
       "    user_score rating  sum_sales  \n",
       "16         8.2      M      21.05  \n",
       "23         8.1      M      16.27  \n",
       "31         NaN    NaN      14.63  \n",
       "33         NaN    NaN      14.60  \n",
       "42         8.3      M      12.62  \n",
       "47         NaN    NaN      11.68  \n",
       "60         2.6      M      10.24  \n",
       "69         2.6      M       9.36  \n",
       "72         NaN    NaN       9.18  \n",
       "77         4.3      E       8.58  "
      ]
     },
     "execution_count": 14,
     "metadata": {},
     "output_type": "execute_result"
    }
   ],
   "source": [
    "# Найдем самую успешную игру cо сравнительно свежим релизом\n",
    "games[games['year_of_release']>2012].sort_values('sum_sales', ascending=False).head(10)"
   ]
  },
  {
   "cell_type": "code",
   "execution_count": 15,
   "id": "a4738817",
   "metadata": {
    "scrolled": true
   },
   "outputs": [
    {
     "data": {
      "text/html": [
       "<div>\n",
       "<style scoped>\n",
       "    .dataframe tbody tr th:only-of-type {\n",
       "        vertical-align: middle;\n",
       "    }\n",
       "\n",
       "    .dataframe tbody tr th {\n",
       "        vertical-align: top;\n",
       "    }\n",
       "\n",
       "    .dataframe thead th {\n",
       "        text-align: right;\n",
       "    }\n",
       "</style>\n",
       "<table border=\"1\" class=\"dataframe\">\n",
       "  <thead>\n",
       "    <tr style=\"text-align: right;\">\n",
       "      <th></th>\n",
       "      <th>name</th>\n",
       "      <th>platform</th>\n",
       "      <th>year_of_release</th>\n",
       "      <th>genre</th>\n",
       "      <th>na_sales</th>\n",
       "      <th>eu_sales</th>\n",
       "      <th>jp_sales</th>\n",
       "      <th>other_sales</th>\n",
       "      <th>critic_score</th>\n",
       "      <th>user_score</th>\n",
       "      <th>rating</th>\n",
       "      <th>sum_sales</th>\n",
       "    </tr>\n",
       "  </thead>\n",
       "  <tbody>\n",
       "    <tr>\n",
       "      <th>51</th>\n",
       "      <td>Grand Theft Auto IV</td>\n",
       "      <td>X360</td>\n",
       "      <td>2008.0</td>\n",
       "      <td>Action</td>\n",
       "      <td>6.76</td>\n",
       "      <td>3.07</td>\n",
       "      <td>0.14</td>\n",
       "      <td>1.03</td>\n",
       "      <td>98.0</td>\n",
       "      <td>7.9</td>\n",
       "      <td>M</td>\n",
       "      <td>11.00</td>\n",
       "    </tr>\n",
       "    <tr>\n",
       "      <th>57</th>\n",
       "      <td>Grand Theft Auto IV</td>\n",
       "      <td>PS3</td>\n",
       "      <td>2008.0</td>\n",
       "      <td>Action</td>\n",
       "      <td>4.76</td>\n",
       "      <td>3.69</td>\n",
       "      <td>0.44</td>\n",
       "      <td>1.61</td>\n",
       "      <td>98.0</td>\n",
       "      <td>7.5</td>\n",
       "      <td>M</td>\n",
       "      <td>10.50</td>\n",
       "    </tr>\n",
       "    <tr>\n",
       "      <th>2371</th>\n",
       "      <td>Grand Theft Auto IV</td>\n",
       "      <td>PC</td>\n",
       "      <td>2008.0</td>\n",
       "      <td>Action</td>\n",
       "      <td>0.01</td>\n",
       "      <td>0.79</td>\n",
       "      <td>0.00</td>\n",
       "      <td>0.07</td>\n",
       "      <td>90.0</td>\n",
       "      <td>6.6</td>\n",
       "      <td>M</td>\n",
       "      <td>0.87</td>\n",
       "    </tr>\n",
       "    <tr>\n",
       "      <th>16</th>\n",
       "      <td>Grand Theft Auto V</td>\n",
       "      <td>PS3</td>\n",
       "      <td>2013.0</td>\n",
       "      <td>Action</td>\n",
       "      <td>7.02</td>\n",
       "      <td>9.09</td>\n",
       "      <td>0.98</td>\n",
       "      <td>3.96</td>\n",
       "      <td>97.0</td>\n",
       "      <td>8.2</td>\n",
       "      <td>M</td>\n",
       "      <td>21.05</td>\n",
       "    </tr>\n",
       "    <tr>\n",
       "      <th>23</th>\n",
       "      <td>Grand Theft Auto V</td>\n",
       "      <td>X360</td>\n",
       "      <td>2013.0</td>\n",
       "      <td>Action</td>\n",
       "      <td>9.66</td>\n",
       "      <td>5.14</td>\n",
       "      <td>0.06</td>\n",
       "      <td>1.41</td>\n",
       "      <td>97.0</td>\n",
       "      <td>8.1</td>\n",
       "      <td>M</td>\n",
       "      <td>16.27</td>\n",
       "    </tr>\n",
       "    <tr>\n",
       "      <th>42</th>\n",
       "      <td>Grand Theft Auto V</td>\n",
       "      <td>PS4</td>\n",
       "      <td>2014.0</td>\n",
       "      <td>Action</td>\n",
       "      <td>3.96</td>\n",
       "      <td>6.31</td>\n",
       "      <td>0.38</td>\n",
       "      <td>1.97</td>\n",
       "      <td>97.0</td>\n",
       "      <td>8.3</td>\n",
       "      <td>M</td>\n",
       "      <td>12.62</td>\n",
       "    </tr>\n",
       "    <tr>\n",
       "      <th>165</th>\n",
       "      <td>Grand Theft Auto V</td>\n",
       "      <td>XOne</td>\n",
       "      <td>2014.0</td>\n",
       "      <td>Action</td>\n",
       "      <td>2.81</td>\n",
       "      <td>2.19</td>\n",
       "      <td>0.00</td>\n",
       "      <td>0.47</td>\n",
       "      <td>97.0</td>\n",
       "      <td>7.9</td>\n",
       "      <td>M</td>\n",
       "      <td>5.47</td>\n",
       "    </tr>\n",
       "    <tr>\n",
       "      <th>1730</th>\n",
       "      <td>Grand Theft Auto V</td>\n",
       "      <td>PC</td>\n",
       "      <td>2015.0</td>\n",
       "      <td>Action</td>\n",
       "      <td>0.39</td>\n",
       "      <td>0.69</td>\n",
       "      <td>0.00</td>\n",
       "      <td>0.09</td>\n",
       "      <td>96.0</td>\n",
       "      <td>7.9</td>\n",
       "      <td>M</td>\n",
       "      <td>1.17</td>\n",
       "    </tr>\n",
       "  </tbody>\n",
       "</table>\n",
       "</div>"
      ],
      "text/plain": [
       "                     name platform  year_of_release   genre  na_sales  \\\n",
       "51    Grand Theft Auto IV     X360           2008.0  Action      6.76   \n",
       "57    Grand Theft Auto IV      PS3           2008.0  Action      4.76   \n",
       "2371  Grand Theft Auto IV       PC           2008.0  Action      0.01   \n",
       "16     Grand Theft Auto V      PS3           2013.0  Action      7.02   \n",
       "23     Grand Theft Auto V     X360           2013.0  Action      9.66   \n",
       "42     Grand Theft Auto V      PS4           2014.0  Action      3.96   \n",
       "165    Grand Theft Auto V     XOne           2014.0  Action      2.81   \n",
       "1730   Grand Theft Auto V       PC           2015.0  Action      0.39   \n",
       "\n",
       "      eu_sales  jp_sales  other_sales  critic_score  user_score rating  \\\n",
       "51        3.07      0.14         1.03          98.0         7.9      M   \n",
       "57        3.69      0.44         1.61          98.0         7.5      M   \n",
       "2371      0.79      0.00         0.07          90.0         6.6      M   \n",
       "16        9.09      0.98         3.96          97.0         8.2      M   \n",
       "23        5.14      0.06         1.41          97.0         8.1      M   \n",
       "42        6.31      0.38         1.97          97.0         8.3      M   \n",
       "165       2.19      0.00         0.47          97.0         7.9      M   \n",
       "1730      0.69      0.00         0.09          96.0         7.9      M   \n",
       "\n",
       "      sum_sales  \n",
       "51        11.00  \n",
       "57        10.50  \n",
       "2371       0.87  \n",
       "16        21.05  \n",
       "23        16.27  \n",
       "42        12.62  \n",
       "165        5.47  \n",
       "1730       1.17  "
      ]
     },
     "execution_count": 15,
     "metadata": {},
     "output_type": "execute_result"
    }
   ],
   "source": [
    "#Посмотрим как игра Grand Theft Auto портировалась и с какой частотой выпускались релизы\n",
    "games[(games['name']=='Grand Theft Auto V')|(games['name']=='Grand Theft Auto IV')].sort_values('year_of_release')"
   ]
  },
  {
   "cell_type": "code",
   "execution_count": 16,
   "id": "038bac8f",
   "metadata": {},
   "outputs": [],
   "source": [
    "games13_16=games[games['year_of_release']>2012] # сбрасываем в новый массив все, что позже 2012 года."
   ]
  },
  {
   "cell_type": "markdown",
   "id": "6c91a3dc",
   "metadata": {},
   "source": [
    "Ответ на вопрос 2-5\n",
    "\n",
    "В основном время жизни игровой платформы не превышает 11 лет. Практически всегда в первой половине срока жизни продажи растут, после пика - падают. Актуальные платформы реально делятся по линейкам производителей Sony (PS3, PS4, PSV), Microsoft (X360, XOne), Nintendo (Wii, WiiU). Особняком стоят PC как вечная классика и 3D как единственная в обзоре портативная игровая платформа.\n",
    "\n",
    "Судя по стратегии Sony, одного из самых успешных поставщиков платформ, новая платформа выходит примерно на середине падения предыдущей (3/4 времени жизни предыдущей), далее за 3-4 года выходя на пик продаж.\n",
    "\n",
    "Успешность платформы должна зависеть от релизов на ней игры. Причем, судя по гистограмме na_sales, коммерчески успешных игровых проектов существенно меньше, чем неуспешных. На примере Grand Theft Auto V видно, что игру сначала выпускают на популярных в это время платформах, далее портируя на остальные эту же версию игры, либо ее следующее поколение. Смена поколений игры очень грубо (поскольку на одном примере) можно оценить в 5 лет. Время портирования - год-два. При этом следующее поколение игры может выходить одновременно на самой новой платформе линейки и на предыдущей.\n",
    "\n",
    "Таким образом, можно ожидать, что в ближайшее время появятся топовые игры на новых платформах PSV (релиз 2011), XOne (релиз 2013), WiiU (релиз 2012).\n",
    "\n",
    "Поэтому при выборе диапазона данных для прогнозирования необходимо ориентироваться на следующие факторы:\n",
    "\n",
    "    - время жизни платформ - нет смысла брать периоды более половины времени жизни платформы (примерно 5 лет), нет смысла рассматривать платформы, на которых не выходят релизы. Из платформ, относящихся к линейке какого-то производителя предпочтение следует отдавать наиболее свежей платформе.\n",
    "    - время жизни релиза игры составляет порядка 5 лет. Это означает, что топовые игры на платформах появляются с задержкой от 1 года необходимого для портирования до 5 лет, необходимых для выпуска нового релиза.\n",
    "    - динамика объема рынка после падения начавшегося в 2010 году рынок не оправился окончательно и может в любой момент начать подниматься, либо падать. Подъем рынка прежде всего может быть связан с появлением новых успешных проектов, либо обновлениями предыдущих.\n",
    "    \n",
    "Основываясь на вышеизложенном. Исходя из падения рынка, начавшегося 6 лет назад, появлением трех новых платформ основных поставщиков 5 лет назад, малым количеством новых успешных игровых проектов, считаю потенциально полезным для дальнейшей работы разделить рассмотрение на 2 части. 1 - анализ топовых релизов 2007-2010 года. Смотреть какие из них планируются к обновлению и в какие сроки это стратегия. 2 - смотреть ближайшие 2-3 года, скажем 2013-2016 для отслеживания тенденций изменений рынков, предпочтений пользователей и т.п. Это тактика. Поскольку стратегических задач перед нами не ставили, будет решать тактические и ограничимся 2013-2016 годами."
   ]
  },
  {
   "cell_type": "markdown",
   "id": "83a10d3d",
   "metadata": {},
   "source": [
    "##### Вопрос 6. Постройте график «ящик с усами» по глобальным продажам игр в разбивке по платформам. Опишите результат."
   ]
  },
  {
   "cell_type": "code",
   "execution_count": 18,
   "id": "3b56cb3e",
   "metadata": {},
   "outputs": [
    {
     "data": {
      "image/png": "[encoded data removed]",
      "text/plain": [
       "<Figure size 1224x720 with 1 Axes>"
      ]
     },
     "metadata": {
      "needs_background": "light"
     },
     "output_type": "display_data"
    }
   ],
   "source": [
    "k=0\n",
    "for platform in actual_platforms['platform']:\n",
    "    col=games13_16[games13_16['platform']==platform]['sum_sales']\n",
    "    col = col.reset_index(drop=True) \n",
    "    col.name=platform\n",
    "    k +=1\n",
    "    if k<2:\n",
    "        platform_sales=pd.concat([col], axis=1) # сводим все сериесы в таблицу\n",
    "    else:\n",
    "        platform_sales=pd.concat([platform_sales, col], axis=1)\n",
    "platform_sales.boxplot(figsize=(17,10));\n",
    "plt.title (\"Ящики с усами по платформам\")\n",
    "plt.show()"
   ]
  },
  {
   "cell_type": "code",
   "execution_count": 19,
   "id": "9c55d7d3",
   "metadata": {},
   "outputs": [
    {
     "data": {
      "text/html": [
       "<div>\n",
       "<style scoped>\n",
       "    .dataframe tbody tr th:only-of-type {\n",
       "        vertical-align: middle;\n",
       "    }\n",
       "\n",
       "    .dataframe tbody tr th {\n",
       "        vertical-align: top;\n",
       "    }\n",
       "\n",
       "    .dataframe thead th {\n",
       "        text-align: right;\n",
       "    }\n",
       "</style>\n",
       "<table border=\"1\" class=\"dataframe\">\n",
       "  <thead>\n",
       "    <tr style=\"text-align: right;\">\n",
       "      <th></th>\n",
       "      <th>count</th>\n",
       "      <th>mean</th>\n",
       "      <th>std</th>\n",
       "      <th>min</th>\n",
       "      <th>25%</th>\n",
       "      <th>50%</th>\n",
       "      <th>75%</th>\n",
       "      <th>max</th>\n",
       "      <th>sales</th>\n",
       "    </tr>\n",
       "  </thead>\n",
       "  <tbody>\n",
       "    <tr>\n",
       "      <th>PS4</th>\n",
       "      <td>392.0</td>\n",
       "      <td>0.801378</td>\n",
       "      <td>1.609456</td>\n",
       "      <td>0.01</td>\n",
       "      <td>0.060</td>\n",
       "      <td>0.200</td>\n",
       "      <td>0.730</td>\n",
       "      <td>14.63</td>\n",
       "      <td>314.14</td>\n",
       "    </tr>\n",
       "    <tr>\n",
       "      <th>PS3</th>\n",
       "      <td>345.0</td>\n",
       "      <td>0.525884</td>\n",
       "      <td>1.451939</td>\n",
       "      <td>0.01</td>\n",
       "      <td>0.040</td>\n",
       "      <td>0.150</td>\n",
       "      <td>0.510</td>\n",
       "      <td>21.05</td>\n",
       "      <td>181.43</td>\n",
       "    </tr>\n",
       "    <tr>\n",
       "      <th>XOne</th>\n",
       "      <td>247.0</td>\n",
       "      <td>0.645020</td>\n",
       "      <td>1.036139</td>\n",
       "      <td>0.01</td>\n",
       "      <td>0.060</td>\n",
       "      <td>0.220</td>\n",
       "      <td>0.685</td>\n",
       "      <td>7.39</td>\n",
       "      <td>159.32</td>\n",
       "    </tr>\n",
       "    <tr>\n",
       "      <th>3DS</th>\n",
       "      <td>303.0</td>\n",
       "      <td>0.472772</td>\n",
       "      <td>1.381347</td>\n",
       "      <td>0.01</td>\n",
       "      <td>0.040</td>\n",
       "      <td>0.090</td>\n",
       "      <td>0.280</td>\n",
       "      <td>14.60</td>\n",
       "      <td>143.25</td>\n",
       "    </tr>\n",
       "    <tr>\n",
       "      <th>X360</th>\n",
       "      <td>186.0</td>\n",
       "      <td>0.735484</td>\n",
       "      <td>1.663275</td>\n",
       "      <td>0.01</td>\n",
       "      <td>0.080</td>\n",
       "      <td>0.265</td>\n",
       "      <td>0.795</td>\n",
       "      <td>16.27</td>\n",
       "      <td>136.80</td>\n",
       "    </tr>\n",
       "    <tr>\n",
       "      <th>WiiU</th>\n",
       "      <td>115.0</td>\n",
       "      <td>0.562000</td>\n",
       "      <td>1.038778</td>\n",
       "      <td>0.01</td>\n",
       "      <td>0.060</td>\n",
       "      <td>0.200</td>\n",
       "      <td>0.595</td>\n",
       "      <td>7.09</td>\n",
       "      <td>64.63</td>\n",
       "    </tr>\n",
       "    <tr>\n",
       "      <th>PC</th>\n",
       "      <td>190.0</td>\n",
       "      <td>0.209368</td>\n",
       "      <td>0.351521</td>\n",
       "      <td>0.01</td>\n",
       "      <td>0.030</td>\n",
       "      <td>0.080</td>\n",
       "      <td>0.230</td>\n",
       "      <td>3.05</td>\n",
       "      <td>39.78</td>\n",
       "    </tr>\n",
       "    <tr>\n",
       "      <th>PSV</th>\n",
       "      <td>358.0</td>\n",
       "      <td>0.092151</td>\n",
       "      <td>0.153816</td>\n",
       "      <td>0.01</td>\n",
       "      <td>0.020</td>\n",
       "      <td>0.040</td>\n",
       "      <td>0.110</td>\n",
       "      <td>1.96</td>\n",
       "      <td>32.99</td>\n",
       "    </tr>\n",
       "    <tr>\n",
       "      <th>Wii</th>\n",
       "      <td>23.0</td>\n",
       "      <td>0.593913</td>\n",
       "      <td>0.915432</td>\n",
       "      <td>0.01</td>\n",
       "      <td>0.045</td>\n",
       "      <td>0.180</td>\n",
       "      <td>0.755</td>\n",
       "      <td>3.58</td>\n",
       "      <td>13.66</td>\n",
       "    </tr>\n",
       "  </tbody>\n",
       "</table>\n",
       "</div>"
      ],
      "text/plain": [
       "      count      mean       std   min    25%    50%    75%    max   sales\n",
       "PS4   392.0  0.801378  1.609456  0.01  0.060  0.200  0.730  14.63  314.14\n",
       "PS3   345.0  0.525884  1.451939  0.01  0.040  0.150  0.510  21.05  181.43\n",
       "XOne  247.0  0.645020  1.036139  0.01  0.060  0.220  0.685   7.39  159.32\n",
       "3DS   303.0  0.472772  1.381347  0.01  0.040  0.090  0.280  14.60  143.25\n",
       "X360  186.0  0.735484  1.663275  0.01  0.080  0.265  0.795  16.27  136.80\n",
       "WiiU  115.0  0.562000  1.038778  0.01  0.060  0.200  0.595   7.09   64.63\n",
       "PC    190.0  0.209368  0.351521  0.01  0.030  0.080  0.230   3.05   39.78\n",
       "PSV   358.0  0.092151  0.153816  0.01  0.020  0.040  0.110   1.96   32.99\n",
       "Wii    23.0  0.593913  0.915432  0.01  0.045  0.180  0.755   3.58   13.66"
      ]
     },
     "execution_count": 19,
     "metadata": {},
     "output_type": "execute_result"
    }
   ],
   "source": [
    "k=0\n",
    "\n",
    "for platform in actual_platforms['platform']: # смотрим только актуальные платформы\n",
    "    desc=games[(games['platform']==platform)&(games['year_of_release']>=2013)]['sum_sales'].describe() # берем стат. параметры\n",
    "    desc.name=platform # меняем название для сериес\n",
    "    k += 1\n",
    "    if k<2:\n",
    "        platform_stat=pd.concat([desc], axis=1) # сводим все сериесы в таблицу\n",
    "    else:\n",
    "        platform_stat=pd.concat([platform_stat, desc], axis=1)\n",
    "        \n",
    "platform_stat=platform_stat.T       # транспонируем таблицу    \n",
    "platform_stat['sales']=platform_stat['mean']*platform_stat['count']   # сортируем\n",
    "platform_stat.sort_values('sales', ascending=False)"
   ]
  },
  {
   "cell_type": "markdown",
   "id": "45ea7567",
   "metadata": {},
   "source": [
    "Ответ на вопрос 6\n",
    "Видно, что на разных платформах разное количество выбросов, а выбросы это успешные проекты, которые приносят большие продажи. Т.е. чем длиннее верхний шлейф тем лучше платформа. Величина \"ящика\" показывает хорошие продажи на середнячках.\n",
    "    \n",
    "    PSV - явно еще не вошла в силу, но судя по PS3 и PS4 имеет хорошие перспективы.\n",
    "    Wii - изначально чем то не устраивает игроделов, или сама по себе непопулярная. WiiU - тоже пока слабая, может и получится развиться.\n",
    "    PS4 и X360 - практически ноздря в ноздрю, XOne чуть отстает, но это по молодости. Скорее всего обгонит.\n",
    "    3DS - отличная платформа, но формфактор непопулярен в США и Европе.\n",
    "    PC - Очень похожа на PSV, но выше смотрели, что ей уже 30 лет, а все никак не разовьется."
   ]
  },
  {
   "cell_type": "markdown",
   "id": "d32bb7fe",
   "metadata": {},
   "source": [
    "##### Вопрос 7. Посмотрите, как влияют на продажи внутри одной популярной платформы отзывы пользователей и критиков. Постройте диаграмму рассеяния и посчитайте корреляцию между отзывами и продажами. Сформулируйте выводы.\n",
    "##### Вопрос 8. Соотнесите выводы с продажами игр на других платформах."
   ]
  },
  {
   "cell_type": "markdown",
   "id": "be261a9c",
   "metadata": {},
   "source": [
    "Посмотрим, что происходит на платформе PS4"
   ]
  },
  {
   "cell_type": "code",
   "execution_count": 20,
   "id": "7d07a750",
   "metadata": {},
   "outputs": [
    {
     "data": {
      "image/png": "[encoded data removed]",
      "text/plain": [
       "<Figure size 432x288 with 1 Axes>"
      ]
     },
     "metadata": {
      "needs_background": "light"
     },
     "output_type": "display_data"
    }
   ],
   "source": [
    "games_ps4=games13_16[games13_16['platform']=='PS4']\n",
    "\n",
    "games_ps4.plot(x='user_score', y='sum_sales', kind='scatter', grid=True);\n",
    "plt.title (\"Диаграмма рассеяния продажи - пользовательские оценки\");\n",
    "plt.xlabel(\"Пользовательская оценка\");\n",
    "plt.ylabel(\"Продажа, млн. инсталляций\");\n",
    "plt.show()"
   ]
  },
  {
   "cell_type": "code",
   "execution_count": 21,
   "id": "5a829525",
   "metadata": {},
   "outputs": [
    {
     "data": {
      "image/png": "[encoded data removed]",
      "text/plain": [
       "<Figure size 432x288 with 1 Axes>"
      ]
     },
     "metadata": {
      "needs_background": "light"
     },
     "output_type": "display_data"
    }
   ],
   "source": [
    "games_ps4.plot(x='critic_score', y='sum_sales', kind='scatter', grid=True);\n",
    "plt.title (\"Диаграмма рассеяния продажи - оценки критиков\");\n",
    "plt.xlabel(\"Оценка критиков, бал\");\n",
    "plt.ylabel(\"Продажа, млн. инсталляций\");\n",
    "plt.show()"
   ]
  },
  {
   "cell_type": "markdown",
   "id": "47e54194",
   "metadata": {},
   "source": [
    "Построим таблицу с корреляциями для всех актуальных платформ."
   ]
  },
  {
   "cell_type": "code",
   "execution_count": 22,
   "id": "f2669531",
   "metadata": {},
   "outputs": [
    {
     "data": {
      "text/html": [
       "<div>\n",
       "<style scoped>\n",
       "    .dataframe tbody tr th:only-of-type {\n",
       "        vertical-align: middle;\n",
       "    }\n",
       "\n",
       "    .dataframe tbody tr th {\n",
       "        vertical-align: top;\n",
       "    }\n",
       "\n",
       "    .dataframe thead th {\n",
       "        text-align: right;\n",
       "    }\n",
       "</style>\n",
       "<table border=\"1\" class=\"dataframe\">\n",
       "  <thead>\n",
       "    <tr style=\"text-align: right;\">\n",
       "      <th></th>\n",
       "      <th>platform</th>\n",
       "      <th>user_corr</th>\n",
       "      <th>critic_corr</th>\n",
       "      <th>critic_user_corr</th>\n",
       "    </tr>\n",
       "  </thead>\n",
       "  <tbody>\n",
       "    <tr>\n",
       "      <th>2</th>\n",
       "      <td>XOne</td>\n",
       "      <td>-0.068925</td>\n",
       "      <td>0.416998</td>\n",
       "      <td>0.472462</td>\n",
       "    </tr>\n",
       "    <tr>\n",
       "      <th>0</th>\n",
       "      <td>PS4</td>\n",
       "      <td>-0.031957</td>\n",
       "      <td>0.406568</td>\n",
       "      <td>0.557654</td>\n",
       "    </tr>\n",
       "    <tr>\n",
       "      <th>3</th>\n",
       "      <td>WiiU</td>\n",
       "      <td>0.419330</td>\n",
       "      <td>0.376415</td>\n",
       "      <td>0.721313</td>\n",
       "    </tr>\n",
       "    <tr>\n",
       "      <th>1</th>\n",
       "      <td>3DS</td>\n",
       "      <td>0.241504</td>\n",
       "      <td>0.357057</td>\n",
       "      <td>0.769536</td>\n",
       "    </tr>\n",
       "    <tr>\n",
       "      <th>6</th>\n",
       "      <td>X360</td>\n",
       "      <td>-0.011742</td>\n",
       "      <td>0.350345</td>\n",
       "      <td>0.520946</td>\n",
       "    </tr>\n",
       "    <tr>\n",
       "      <th>4</th>\n",
       "      <td>PS3</td>\n",
       "      <td>0.002394</td>\n",
       "      <td>0.334285</td>\n",
       "      <td>0.599920</td>\n",
       "    </tr>\n",
       "    <tr>\n",
       "      <th>7</th>\n",
       "      <td>PSV</td>\n",
       "      <td>0.000942</td>\n",
       "      <td>0.254742</td>\n",
       "      <td>0.611521</td>\n",
       "    </tr>\n",
       "    <tr>\n",
       "      <th>5</th>\n",
       "      <td>PC</td>\n",
       "      <td>-0.090552</td>\n",
       "      <td>0.197390</td>\n",
       "      <td>0.434282</td>\n",
       "    </tr>\n",
       "    <tr>\n",
       "      <th>8</th>\n",
       "      <td>Wii</td>\n",
       "      <td>0.682942</td>\n",
       "      <td>NaN</td>\n",
       "      <td>NaN</td>\n",
       "    </tr>\n",
       "  </tbody>\n",
       "</table>\n",
       "</div>"
      ],
      "text/plain": [
       "  platform  user_corr  critic_corr  critic_user_corr\n",
       "2     XOne  -0.068925     0.416998          0.472462\n",
       "0      PS4  -0.031957     0.406568          0.557654\n",
       "3     WiiU   0.419330     0.376415          0.721313\n",
       "1      3DS   0.241504     0.357057          0.769536\n",
       "6     X360  -0.011742     0.350345          0.520946\n",
       "4      PS3   0.002394     0.334285          0.599920\n",
       "7      PSV   0.000942     0.254742          0.611521\n",
       "5       PC  -0.090552     0.197390          0.434282\n",
       "8      Wii   0.682942          NaN               NaN"
      ]
     },
     "execution_count": 22,
     "metadata": {},
     "output_type": "execute_result"
    }
   ],
   "source": [
    "scoring_table=actual_platforms\n",
    "# корреляция пользовательских оценок и продаж\n",
    "def user_scoring_table_build(row): \n",
    "    return games13_16[games13_16['platform']==row['platform']]['sum_sales'].corr(games13_16[games13_16['platform']==row['platform']]['user_score'])\n",
    "\n",
    "# корреляция оценок критиков и продаж\n",
    "def critic_scoring_table_build(row):\n",
    "    return games13_16[games13_16['platform']==row['platform']]['sum_sales'].corr(games13_16[games13_16['platform']==row['platform']]['critic_score'])\n",
    "\n",
    "# корреляция оценок критиков и пользователей\n",
    "def critic_user_table_build(row):\n",
    "    return games13_16[games13_16['platform']==row['platform']]['user_score'].corr(games13_16[games13_16['platform']==row['platform']]['critic_score'])\n",
    "\n",
    "scoring_table['user_corr']=scoring_table.apply(user_scoring_table_build,axis=1)\n",
    "scoring_table['critic_corr']=scoring_table.apply(critic_scoring_table_build,axis=1)\n",
    "scoring_table['critic_user_corr']=scoring_table.apply(critic_user_table_build,axis=1)\n",
    "\n",
    "scoring_table.sort_values('critic_corr', ascending=False)"
   ]
  },
  {
   "cell_type": "markdown",
   "id": "a228f9ab",
   "metadata": {},
   "source": [
    "Ответ на вопросы 7 и 8\n",
    "\n",
    "Для самой продуктивной платформы PS4 наблюдается умеренная положительная связь между оценками пользователей и критиков с коэффициентом Пирсона 0.56. Умеренная положительная связь между оценками критиков и объемом продаж с коэффициентом Пирсона 0.4. Слабая отрицательная связь между продажами и оценкой пользователей с коэффициентом Пирсона -0.03.\n",
    "\n",
    "На других платформах все еще жухе - оценки критиков меньше коррелируют с продажами опускаясь до слабых корреляций на PC, Wii, PSV, корреляция оценок пользователей с продажами всегда слабая и разнонаправленная. \n",
    "\n",
    "Слабую корреляцию пользовательского скоринга с продажами связываю с тем, что для оценки игры пользователь должен ее купить. А дальше уже как повезет. При выборе игры пользователь в какой то степени ориентируется на отзывы критиков (умеренная корреляция продаж и оценок критиков). Но именно в какой-то степени.\n",
    "    \n",
    "Таким образом при выборе игр для перепродажи мнение пользователей учитывать не следует, мнение критиков следует учитывать, но не полагаться на него."
   ]
  },
  {
   "cell_type": "markdown",
   "id": "b4ef6608",
   "metadata": {},
   "source": [
    "##### Вопрос 9. Посмотрите на общее распределение игр по жанрам. Что можно сказать о самых прибыльных жанрах? Выделяются ли жанры с высокими и низкими продажами?"
   ]
  },
  {
   "cell_type": "code",
   "execution_count": 37,
   "id": "b5336016",
   "metadata": {},
   "outputs": [
    {
     "data": {
      "text/plain": [
       "genre\n",
       "Action          322.22\n",
       "Shooter         232.98\n",
       "Sports          150.65\n",
       "Role-Playing    145.89\n",
       "Platform         42.63\n",
       "Racing           39.89\n",
       "Fighting         35.31\n",
       "Adventure        23.64\n",
       "Simulation       21.76\n",
       "Strategy         10.08\n",
       "Puzzle            3.17\n",
       "Name: sum_sales, dtype: float64"
      ]
     },
     "metadata": {},
     "output_type": "display_data"
    },
    {
     "data": {
      "image/png": "[encoded data removed]",
      "text/plain": [
       "<Figure size 432x288 with 1 Axes>"
      ]
     },
     "metadata": {},
     "output_type": "display_data"
    }
   ],
   "source": [
    "# строим таблицу продаж по жанрам\n",
    "display(games13_16.groupby('genre')['sum_sales'].sum().sort_values(ascending=False))\n",
    "\n",
    "# делаем график прожад по жанрам для наглядности\n",
    "games13_16.groupby('genre')['sum_sales'].sum().sort_values(ascending=False).head(10).plot(kind='pie');\n",
    "plt.title (\"Жанры по объемам продаж\");\n",
    "plt.show()"
   ]
  },
  {
   "cell_type": "code",
   "execution_count": 24,
   "id": "dd734c7e",
   "metadata": {},
   "outputs": [
    {
     "data": {
      "text/html": [
       "<div>\n",
       "<style scoped>\n",
       "    .dataframe tbody tr th:only-of-type {\n",
       "        vertical-align: middle;\n",
       "    }\n",
       "\n",
       "    .dataframe tbody tr th {\n",
       "        vertical-align: top;\n",
       "    }\n",
       "\n",
       "    .dataframe thead th {\n",
       "        text-align: right;\n",
       "    }\n",
       "</style>\n",
       "<table border=\"1\" class=\"dataframe\">\n",
       "  <thead>\n",
       "    <tr style=\"text-align: right;\">\n",
       "      <th></th>\n",
       "      <th>releases</th>\n",
       "      <th>mean_sale</th>\n",
       "      <th>sum_sales</th>\n",
       "    </tr>\n",
       "    <tr>\n",
       "      <th>genre</th>\n",
       "      <th></th>\n",
       "      <th></th>\n",
       "      <th></th>\n",
       "    </tr>\n",
       "  </thead>\n",
       "  <tbody>\n",
       "    <tr>\n",
       "      <th>Action</th>\n",
       "      <td>767</td>\n",
       "      <td>0.420104</td>\n",
       "      <td>322.22</td>\n",
       "    </tr>\n",
       "    <tr>\n",
       "      <th>Shooter</th>\n",
       "      <td>187</td>\n",
       "      <td>1.245882</td>\n",
       "      <td>232.98</td>\n",
       "    </tr>\n",
       "    <tr>\n",
       "      <th>Sports</th>\n",
       "      <td>214</td>\n",
       "      <td>0.703972</td>\n",
       "      <td>150.65</td>\n",
       "    </tr>\n",
       "    <tr>\n",
       "      <th>Role-Playing</th>\n",
       "      <td>292</td>\n",
       "      <td>0.499623</td>\n",
       "      <td>145.89</td>\n",
       "    </tr>\n",
       "    <tr>\n",
       "      <th>Platform</th>\n",
       "      <td>74</td>\n",
       "      <td>0.576081</td>\n",
       "      <td>42.63</td>\n",
       "    </tr>\n",
       "    <tr>\n",
       "      <th>Racing</th>\n",
       "      <td>85</td>\n",
       "      <td>0.469294</td>\n",
       "      <td>39.89</td>\n",
       "    </tr>\n",
       "    <tr>\n",
       "      <th>Fighting</th>\n",
       "      <td>80</td>\n",
       "      <td>0.441375</td>\n",
       "      <td>35.31</td>\n",
       "    </tr>\n",
       "    <tr>\n",
       "      <th>Adventure</th>\n",
       "      <td>245</td>\n",
       "      <td>0.096490</td>\n",
       "      <td>23.64</td>\n",
       "    </tr>\n",
       "    <tr>\n",
       "      <th>Simulation</th>\n",
       "      <td>62</td>\n",
       "      <td>0.350968</td>\n",
       "      <td>21.76</td>\n",
       "    </tr>\n",
       "    <tr>\n",
       "      <th>Strategy</th>\n",
       "      <td>56</td>\n",
       "      <td>0.180000</td>\n",
       "      <td>10.08</td>\n",
       "    </tr>\n",
       "    <tr>\n",
       "      <th>Puzzle</th>\n",
       "      <td>17</td>\n",
       "      <td>0.186471</td>\n",
       "      <td>3.17</td>\n",
       "    </tr>\n",
       "  </tbody>\n",
       "</table>\n",
       "</div>"
      ],
      "text/plain": [
       "              releases  mean_sale  sum_sales\n",
       "genre                                       \n",
       "Action             767   0.420104     322.22\n",
       "Shooter            187   1.245882     232.98\n",
       "Sports             214   0.703972     150.65\n",
       "Role-Playing       292   0.499623     145.89\n",
       "Platform            74   0.576081      42.63\n",
       "Racing              85   0.469294      39.89\n",
       "Fighting            80   0.441375      35.31\n",
       "Adventure          245   0.096490      23.64\n",
       "Simulation          62   0.350968      21.76\n",
       "Strategy            56   0.180000      10.08\n",
       "Puzzle              17   0.186471       3.17"
      ]
     },
     "execution_count": 24,
     "metadata": {},
     "output_type": "execute_result"
    }
   ],
   "source": [
    "games_by_genre=games13_16.pivot_table(index='genre', values=['sum_sales'], aggfunc=['count','mean','sum'])\n",
    "games_by_genre.columns=['releases', 'mean_sale', 'sum_sales']\n",
    "games_by_genre.sort_values('sum_sales', ascending=False)"
   ]
  },
  {
   "cell_type": "code",
   "execution_count": 25,
   "id": "8399d81f",
   "metadata": {},
   "outputs": [
    {
     "data": {
      "image/png": "[encoded data removed]",
      "text/plain": [
       "<Figure size 720x576 with 1 Axes>"
      ]
     },
     "metadata": {
      "needs_background": "light"
     },
     "output_type": "display_data"
    }
   ],
   "source": [
    "# Сводим количество релизов по годам и жанрам\n",
    "games13_16.pivot_table(index='genre', values='sum_sales', columns='year_of_release', aggfunc='sum').T.plot(figsize=(10,8), style='o-');\n",
    "plt.xticks(rotation=90);\n",
    "plt.title (\"Количество релизов в жанре за год\");\n",
    "plt.xlabel(\"Год\");\n",
    "plt.ylabel(\"Релизы, шт.\");\n",
    "plt.xticks((2013, 2014, 2015, 2016));"
   ]
  },
  {
   "cell_type": "markdown",
   "id": "c3f9a64d",
   "metadata": {},
   "source": [
    "В абсолютном зачете лидирует Action с отрывом в 1.4 раза от Shooter, который с отрывом 1.5 раза опережает Sports и Role-Playing.\n",
    "\n",
    "При этом если рассматривать средние продажи с одного релиза, лидирует жанр Shooter с отрывом в 1.7 раза от Spots, который с тем же отрывом опережает Role-Playing и Action.\n",
    "    \n",
    "Все это говорит скорее о том, что рынок был перенасыщен играми в стиле Action и испытывает некоторую нехватку Shooter и Sports и Role-Playing проектов. Смена трендов пожалуй заметна на графике количества релизов - Action быстрее других летит в пропасть."
   ]
  },
  {
   "cell_type": "markdown",
   "id": "3a30cc45",
   "metadata": {},
   "source": [
    "##### Ответ на вопрос 9\n",
    "\n",
    "Больше 3/4 объема рынка занимают игры жанров Action, Shooter, Sports, Role-Playing. Дальше идут существенно менее популярные жанры."
   ]
  },
  {
   "cell_type": "markdown",
   "id": "8c38efc1",
   "metadata": {},
   "source": [
    "#### Шаг 4. Составьте портрет пользователя каждого региона"
   ]
  },
  {
   "cell_type": "markdown",
   "id": "7541722e",
   "metadata": {},
   "source": [
    "##### Самые популярные платформы (топ-5). Опишите различия в долях продаж."
   ]
  },
  {
   "cell_type": "code",
   "execution_count": 26,
   "id": "d146c5dc",
   "metadata": {
    "scrolled": true
   },
   "outputs": [
    {
     "data": {
      "text/html": [
       "<div>\n",
       "<style scoped>\n",
       "    .dataframe tbody tr th:only-of-type {\n",
       "        vertical-align: middle;\n",
       "    }\n",
       "\n",
       "    .dataframe tbody tr th {\n",
       "        vertical-align: top;\n",
       "    }\n",
       "\n",
       "    .dataframe thead th {\n",
       "        text-align: right;\n",
       "    }\n",
       "</style>\n",
       "<table border=\"1\" class=\"dataframe\">\n",
       "  <thead>\n",
       "    <tr style=\"text-align: right;\">\n",
       "      <th></th>\n",
       "      <th>na_sales</th>\n",
       "    </tr>\n",
       "    <tr>\n",
       "      <th>platform</th>\n",
       "      <th></th>\n",
       "    </tr>\n",
       "  </thead>\n",
       "  <tbody>\n",
       "    <tr>\n",
       "      <th>PS4</th>\n",
       "      <td>108.74</td>\n",
       "    </tr>\n",
       "    <tr>\n",
       "      <th>XOne</th>\n",
       "      <td>93.12</td>\n",
       "    </tr>\n",
       "    <tr>\n",
       "      <th>X360</th>\n",
       "      <td>81.66</td>\n",
       "    </tr>\n",
       "    <tr>\n",
       "      <th>PS3</th>\n",
       "      <td>63.50</td>\n",
       "    </tr>\n",
       "    <tr>\n",
       "      <th>3DS</th>\n",
       "      <td>38.20</td>\n",
       "    </tr>\n",
       "  </tbody>\n",
       "</table>\n",
       "</div>"
      ],
      "text/plain": [
       "          na_sales\n",
       "platform          \n",
       "PS4         108.74\n",
       "XOne         93.12\n",
       "X360         81.66\n",
       "PS3          63.50\n",
       "3DS          38.20"
      ]
     },
     "metadata": {},
     "output_type": "display_data"
    },
    {
     "data": {
      "text/html": [
       "<div>\n",
       "<style scoped>\n",
       "    .dataframe tbody tr th:only-of-type {\n",
       "        vertical-align: middle;\n",
       "    }\n",
       "\n",
       "    .dataframe tbody tr th {\n",
       "        vertical-align: top;\n",
       "    }\n",
       "\n",
       "    .dataframe thead th {\n",
       "        text-align: right;\n",
       "    }\n",
       "</style>\n",
       "<table border=\"1\" class=\"dataframe\">\n",
       "  <thead>\n",
       "    <tr style=\"text-align: right;\">\n",
       "      <th></th>\n",
       "      <th>eu_sales</th>\n",
       "    </tr>\n",
       "    <tr>\n",
       "      <th>platform</th>\n",
       "      <th></th>\n",
       "    </tr>\n",
       "  </thead>\n",
       "  <tbody>\n",
       "    <tr>\n",
       "      <th>PS4</th>\n",
       "      <td>141.09</td>\n",
       "    </tr>\n",
       "    <tr>\n",
       "      <th>PS3</th>\n",
       "      <td>67.81</td>\n",
       "    </tr>\n",
       "    <tr>\n",
       "      <th>XOne</th>\n",
       "      <td>51.59</td>\n",
       "    </tr>\n",
       "    <tr>\n",
       "      <th>X360</th>\n",
       "      <td>42.52</td>\n",
       "    </tr>\n",
       "    <tr>\n",
       "      <th>3DS</th>\n",
       "      <td>30.96</td>\n",
       "    </tr>\n",
       "  </tbody>\n",
       "</table>\n",
       "</div>"
      ],
      "text/plain": [
       "          eu_sales\n",
       "platform          \n",
       "PS4         141.09\n",
       "PS3          67.81\n",
       "XOne         51.59\n",
       "X360         42.52\n",
       "3DS          30.96"
      ]
     },
     "metadata": {},
     "output_type": "display_data"
    },
    {
     "data": {
      "text/html": [
       "<div>\n",
       "<style scoped>\n",
       "    .dataframe tbody tr th:only-of-type {\n",
       "        vertical-align: middle;\n",
       "    }\n",
       "\n",
       "    .dataframe tbody tr th {\n",
       "        vertical-align: top;\n",
       "    }\n",
       "\n",
       "    .dataframe thead th {\n",
       "        text-align: right;\n",
       "    }\n",
       "</style>\n",
       "<table border=\"1\" class=\"dataframe\">\n",
       "  <thead>\n",
       "    <tr style=\"text-align: right;\">\n",
       "      <th></th>\n",
       "      <th>jp_sales</th>\n",
       "    </tr>\n",
       "    <tr>\n",
       "      <th>platform</th>\n",
       "      <th></th>\n",
       "    </tr>\n",
       "  </thead>\n",
       "  <tbody>\n",
       "    <tr>\n",
       "      <th>3DS</th>\n",
       "      <td>67.81</td>\n",
       "    </tr>\n",
       "    <tr>\n",
       "      <th>PS3</th>\n",
       "      <td>23.35</td>\n",
       "    </tr>\n",
       "    <tr>\n",
       "      <th>PSV</th>\n",
       "      <td>18.59</td>\n",
       "    </tr>\n",
       "    <tr>\n",
       "      <th>PS4</th>\n",
       "      <td>15.96</td>\n",
       "    </tr>\n",
       "    <tr>\n",
       "      <th>WiiU</th>\n",
       "      <td>10.88</td>\n",
       "    </tr>\n",
       "  </tbody>\n",
       "</table>\n",
       "</div>"
      ],
      "text/plain": [
       "          jp_sales\n",
       "platform          \n",
       "3DS          67.81\n",
       "PS3          23.35\n",
       "PSV          18.59\n",
       "PS4          15.96\n",
       "WiiU         10.88"
      ]
     },
     "metadata": {},
     "output_type": "display_data"
    }
   ],
   "source": [
    "# Топ 5 платформ по продажам в ключевых регионах\n",
    "display(games13_16.pivot_table(index='platform', values=['na_sales'], aggfunc='sum').sort_values('na_sales', ascending=False).head(5))\n",
    "display(games13_16.pivot_table(index='platform', values=['eu_sales'], aggfunc='sum').sort_values('eu_sales', ascending=False).head(5))\n",
    "display(games13_16.pivot_table(index='platform', values=['jp_sales'], aggfunc='sum').sort_values('jp_sales', ascending=False).head(5))"
   ]
  },
  {
   "cell_type": "code",
   "execution_count": 27,
   "id": "8061bd82",
   "metadata": {
    "scrolled": true
   },
   "outputs": [
    {
     "data": {
      "image/png": "[encoded data removed]",
      "text/plain": [
       "<Figure size 432x288 with 1 Axes>"
      ]
     },
     "metadata": {},
     "output_type": "display_data"
    },
    {
     "data": {
      "image/png": "[encoded data removed]",
      "text/plain": [
       "<Figure size 432x288 with 1 Axes>"
      ]
     },
     "metadata": {},
     "output_type": "display_data"
    },
    {
     "data": {
      "image/png": "[encoded data removed]",
      "text/plain": [
       "<Figure size 432x288 with 1 Axes>"
      ]
     },
     "metadata": {},
     "output_type": "display_data"
    }
   ],
   "source": [
    "games13_16.pivot_table(index='platform', values=['na_sales'], aggfunc='sum').sort_values('na_sales', ascending=False).head(8).plot(kind='pie', subplots=True, legend=False);\n",
    "plt.title (\"Платформы, доля продаж, США\");\n",
    "plt.show()\n",
    "\n",
    "games13_16.pivot_table(index='platform', values=['eu_sales'], aggfunc='sum').sort_values('eu_sales', ascending=False).head(8).plot(kind='pie', subplots=True, legend=False);\n",
    "plt.title (\"Платформы, доля продаж, Европа\");\n",
    "plt.show()\n",
    "\n",
    "games13_16.pivot_table(index='platform', values=['jp_sales'], aggfunc='sum').sort_values('jp_sales', ascending=False).head(6).plot(kind='pie', subplots=True, legend=False);\n",
    "plt.title (\"Платформы, доля продаж, Япония\");\n",
    "plt.show()"
   ]
  },
  {
   "cell_type": "markdown",
   "id": "2e93a415",
   "metadata": {},
   "source": [
    "Рынок северной америки самый большой, за ним следуют европейский и японский.\n",
    "\n",
    "Представленность платформ на европейском и американском рынках близка - основные игроки Sony и Microsoft. При этом есть существенное отличие в выделении долей. Рынок США почти равномерно поделен между PS4, XOne, X360, PS3. Расстояние между конкурентами в 10-20 млн. копий.\n",
    "\n",
    "На европейском рынке явный лидер Sony - PS4 и PS3 занимают больше половины, причем PS4 сам по себе - треть. На втором месте Microsoft приставками XOne и X360 занимая чуть меньше 1/4 рынка.\n",
    "\n",
    "Рынок японии сильно меньше других, при этом отличается по структуре, поскольку лидирует портативная платформа 3DS занимая почти половину рынка. Вторую половину рынка плотно аккупировали приставки от Sony и небольшую долю занимает WiiU."
   ]
  },
  {
   "cell_type": "markdown",
   "id": "ccbcc619",
   "metadata": {},
   "source": [
    "##### Самые популярные жанры (топ-5). Поясните разницу."
   ]
  },
  {
   "cell_type": "code",
   "execution_count": 28,
   "id": "12c54e3e",
   "metadata": {},
   "outputs": [
    {
     "data": {
      "text/html": [
       "<div>\n",
       "<style scoped>\n",
       "    .dataframe tbody tr th:only-of-type {\n",
       "        vertical-align: middle;\n",
       "    }\n",
       "\n",
       "    .dataframe tbody tr th {\n",
       "        vertical-align: top;\n",
       "    }\n",
       "\n",
       "    .dataframe thead th {\n",
       "        text-align: right;\n",
       "    }\n",
       "</style>\n",
       "<table border=\"1\" class=\"dataframe\">\n",
       "  <thead>\n",
       "    <tr style=\"text-align: right;\">\n",
       "      <th></th>\n",
       "      <th>na_sales</th>\n",
       "    </tr>\n",
       "    <tr>\n",
       "      <th>genre</th>\n",
       "      <th></th>\n",
       "    </tr>\n",
       "  </thead>\n",
       "  <tbody>\n",
       "    <tr>\n",
       "      <th>Action</th>\n",
       "      <td>126.11</td>\n",
       "    </tr>\n",
       "    <tr>\n",
       "      <th>Shooter</th>\n",
       "      <td>109.74</td>\n",
       "    </tr>\n",
       "    <tr>\n",
       "      <th>Sports</th>\n",
       "      <td>65.27</td>\n",
       "    </tr>\n",
       "    <tr>\n",
       "      <th>Role-Playing</th>\n",
       "      <td>46.40</td>\n",
       "    </tr>\n",
       "    <tr>\n",
       "      <th>Platform</th>\n",
       "      <td>18.14</td>\n",
       "    </tr>\n",
       "  </tbody>\n",
       "</table>\n",
       "</div>"
      ],
      "text/plain": [
       "              na_sales\n",
       "genre                 \n",
       "Action          126.11\n",
       "Shooter         109.74\n",
       "Sports           65.27\n",
       "Role-Playing     46.40\n",
       "Platform         18.14"
      ]
     },
     "metadata": {},
     "output_type": "display_data"
    },
    {
     "data": {
      "text/html": [
       "<div>\n",
       "<style scoped>\n",
       "    .dataframe tbody tr th:only-of-type {\n",
       "        vertical-align: middle;\n",
       "    }\n",
       "\n",
       "    .dataframe tbody tr th {\n",
       "        vertical-align: top;\n",
       "    }\n",
       "\n",
       "    .dataframe thead th {\n",
       "        text-align: right;\n",
       "    }\n",
       "</style>\n",
       "<table border=\"1\" class=\"dataframe\">\n",
       "  <thead>\n",
       "    <tr style=\"text-align: right;\">\n",
       "      <th></th>\n",
       "      <th>eu_sales</th>\n",
       "    </tr>\n",
       "    <tr>\n",
       "      <th>genre</th>\n",
       "      <th></th>\n",
       "    </tr>\n",
       "  </thead>\n",
       "  <tbody>\n",
       "    <tr>\n",
       "      <th>Action</th>\n",
       "      <td>118.38</td>\n",
       "    </tr>\n",
       "    <tr>\n",
       "      <th>Shooter</th>\n",
       "      <td>87.86</td>\n",
       "    </tr>\n",
       "    <tr>\n",
       "      <th>Sports</th>\n",
       "      <td>60.52</td>\n",
       "    </tr>\n",
       "    <tr>\n",
       "      <th>Role-Playing</th>\n",
       "      <td>36.97</td>\n",
       "    </tr>\n",
       "    <tr>\n",
       "      <th>Racing</th>\n",
       "      <td>20.19</td>\n",
       "    </tr>\n",
       "  </tbody>\n",
       "</table>\n",
       "</div>"
      ],
      "text/plain": [
       "              eu_sales\n",
       "genre                 \n",
       "Action          118.38\n",
       "Shooter          87.86\n",
       "Sports           60.52\n",
       "Role-Playing     36.97\n",
       "Racing           20.19"
      ]
     },
     "metadata": {},
     "output_type": "display_data"
    },
    {
     "data": {
      "text/html": [
       "<div>\n",
       "<style scoped>\n",
       "    .dataframe tbody tr th:only-of-type {\n",
       "        vertical-align: middle;\n",
       "    }\n",
       "\n",
       "    .dataframe tbody tr th {\n",
       "        vertical-align: top;\n",
       "    }\n",
       "\n",
       "    .dataframe thead th {\n",
       "        text-align: right;\n",
       "    }\n",
       "</style>\n",
       "<table border=\"1\" class=\"dataframe\">\n",
       "  <thead>\n",
       "    <tr style=\"text-align: right;\">\n",
       "      <th></th>\n",
       "      <th>jp_sales</th>\n",
       "    </tr>\n",
       "    <tr>\n",
       "      <th>genre</th>\n",
       "      <th></th>\n",
       "    </tr>\n",
       "  </thead>\n",
       "  <tbody>\n",
       "    <tr>\n",
       "      <th>Role-Playing</th>\n",
       "      <td>51.04</td>\n",
       "    </tr>\n",
       "    <tr>\n",
       "      <th>Action</th>\n",
       "      <td>40.49</td>\n",
       "    </tr>\n",
       "    <tr>\n",
       "      <th>Fighting</th>\n",
       "      <td>7.65</td>\n",
       "    </tr>\n",
       "    <tr>\n",
       "      <th>Shooter</th>\n",
       "      <td>6.61</td>\n",
       "    </tr>\n",
       "    <tr>\n",
       "      <th>Adventure</th>\n",
       "      <td>5.82</td>\n",
       "    </tr>\n",
       "  </tbody>\n",
       "</table>\n",
       "</div>"
      ],
      "text/plain": [
       "              jp_sales\n",
       "genre                 \n",
       "Role-Playing     51.04\n",
       "Action           40.49\n",
       "Fighting          7.65\n",
       "Shooter           6.61\n",
       "Adventure         5.82"
      ]
     },
     "metadata": {},
     "output_type": "display_data"
    }
   ],
   "source": [
    "# Топ 5 жанров по продажам в ключевых регионах\n",
    "display(games13_16.pivot_table(index='genre', values=['na_sales'], aggfunc='sum').sort_values('na_sales', ascending=False).head(5))\n",
    "display(games13_16.pivot_table(index='genre', values=['eu_sales'], aggfunc='sum').sort_values('eu_sales', ascending=False).head(5))\n",
    "display(games13_16.pivot_table(index='genre', values=['jp_sales'], aggfunc='sum').sort_values('jp_sales', ascending=False).head(5))"
   ]
  },
  {
   "cell_type": "code",
   "execution_count": 29,
   "id": "2ff1781d",
   "metadata": {},
   "outputs": [
    {
     "data": {
      "image/png": "[encoded data removed]",
      "text/plain": [
       "<Figure size 432x288 with 1 Axes>"
      ]
     },
     "metadata": {},
     "output_type": "display_data"
    },
    {
     "data": {
      "image/png": "[encoded data removed]",
      "text/plain": [
       "<Figure size 432x288 with 1 Axes>"
      ]
     },
     "metadata": {},
     "output_type": "display_data"
    },
    {
     "data": {
      "image/png": "[encoded data removed]",
      "text/plain": [
       "<Figure size 432x288 with 1 Axes>"
      ]
     },
     "metadata": {},
     "output_type": "display_data"
    }
   ],
   "source": [
    "games13_16.pivot_table(index='genre', values=['na_sales'], aggfunc='sum').sort_values('na_sales', ascending=False).head(8).plot(kind='pie', subplots=True, legend=False);\n",
    "plt.title (\"Жанры, доля продаж, США\");\n",
    "plt.show()\n",
    "\n",
    "games13_16.pivot_table(index='genre', values=['eu_sales'], aggfunc='sum').sort_values('eu_sales', ascending=False).head(8).plot(kind='pie', subplots=True, legend=False);\n",
    "plt.title (\"Жанры, доля продаж, Европа\");\n",
    "plt.show()\n",
    "\n",
    "games13_16.pivot_table(index='genre', values=['jp_sales'], aggfunc='sum').sort_values('jp_sales', ascending=False).head(8).plot(kind='pie', subplots=True, legend=False);\n",
    "plt.title (\"Жанры, доля продаж, Япония\");\n",
    "plt.show()"
   ]
  },
  {
   "cell_type": "markdown",
   "id": "1ccbe7ff",
   "metadata": {},
   "source": [
    "#### Влияет ли рейтинг ESRB на продажи в отдельном регионе?"
   ]
  },
  {
   "cell_type": "markdown",
   "id": "276c52fa",
   "metadata": {},
   "source": [
    "Жанровые предпочтения жителей США и Европы схожи - любят Action, Shooter, Sports, Role-Playing, пятое место отличается - в США Platform, в Европе Racing.\n",
    "\n",
    "Жанровые предпочтения жителей Японии более склоняются к ролевым играм, снижен интерес к Shooter, только у них в топ 5 входит Fighting и Adventure."
   ]
  },
  {
   "cell_type": "code",
   "execution_count": 30,
   "id": "c487c69a",
   "metadata": {},
   "outputs": [
    {
     "data": {
      "image/png": "[encoded data removed]",
      "text/plain": [
       "<Figure size 432x288 with 1 Axes>"
      ]
     },
     "metadata": {},
     "output_type": "display_data"
    },
    {
     "data": {
      "image/png": "[encoded data removed]",
      "text/plain": [
       "<Figure size 432x288 with 1 Axes>"
      ]
     },
     "metadata": {},
     "output_type": "display_data"
    },
    {
     "data": {
      "image/png": "[encoded data removed]",
      "text/plain": [
       "<Figure size 432x288 with 1 Axes>"
      ]
     },
     "metadata": {},
     "output_type": "display_data"
    }
   ],
   "source": [
    "games13_16.pivot_table(index='rating', values=['na_sales'], aggfunc='sum').sort_values('na_sales', ascending=False).plot(kind='pie', subplots=True, legend=False);\n",
    "plt.title (\"Рейтинг, доля продаж, США\");\n",
    "plt.show()\n",
    "\n",
    "games13_16.pivot_table(index='rating', values=['eu_sales'], aggfunc='sum').sort_values('eu_sales', ascending=False).plot(kind='pie', subplots=True, legend=False);\n",
    "plt.title (\"Рейтинг, доля продаж, Европа\");\n",
    "plt.show()\n",
    "\n",
    "games13_16.pivot_table(index='rating', values=['jp_sales'], aggfunc='sum').sort_values('jp_sales', ascending=False).plot(kind='pie', subplots=True, legend=False);\n",
    "plt.title (\"Рейтинг, доля продаж, Япония\");\n",
    "plt.show()"
   ]
  },
  {
   "cell_type": "markdown",
   "id": "8bdbd2bf",
   "metadata": {},
   "source": [
    "Рейтинговые предпочтения позволяют нам сориентироваться возрасте покупателей. Европа и США - почти половина продаж совершается пользователям старше 17 лет. Порядка 1/4 - детям младше 10 лет, 1/8 - подросткам, 1/8 кому-то между подростками и детьми. Т.е. главные потребители видеоигр - взрослые. \n",
    "\n",
    "Япония - примерно 1/3 - подростки, 1/4 - дети, 1/4 - взрослые старше 17 лет и остальное - дети старше 10. Т.е. главные потребители видеоигр - дети и подростки."
   ]
  },
  {
   "cell_type": "markdown",
   "id": "c6cc5dc9",
   "metadata": {},
   "source": [
    "#### Шаг 5. Проверьте гипотезы"
   ]
  },
  {
   "cell_type": "markdown",
   "id": "3f1e6ec7",
   "metadata": {},
   "source": [
    "##### Средние пользовательские рейтинги платформ Xbox One и PC одинаковые"
   ]
  },
  {
   "cell_type": "markdown",
   "id": "99545e7a",
   "metadata": {},
   "source": [
    "Сформулируем гипотезу: Нулевая гипотеза - пользовательские рейтинги на платформах одинаковые. Альтернативная - разные.\n",
    "\n",
    "Проверять будем st.ttest_ind как для независимых выборок. Предварительно необходимо будет проверить равенство дисперсий (или стандартных отклонений)."
   ]
  },
  {
   "cell_type": "code",
   "execution_count": 31,
   "id": "388c8c1e",
   "metadata": {},
   "outputs": [
    {
     "data": {
      "text/html": [
       "<div>\n",
       "<style scoped>\n",
       "    .dataframe tbody tr th:only-of-type {\n",
       "        vertical-align: middle;\n",
       "    }\n",
       "\n",
       "    .dataframe tbody tr th {\n",
       "        vertical-align: top;\n",
       "    }\n",
       "\n",
       "    .dataframe thead th {\n",
       "        text-align: right;\n",
       "    }\n",
       "</style>\n",
       "<table border=\"1\" class=\"dataframe\">\n",
       "  <thead>\n",
       "    <tr style=\"text-align: right;\">\n",
       "      <th></th>\n",
       "      <th>XOne</th>\n",
       "      <th>PC</th>\n",
       "    </tr>\n",
       "  </thead>\n",
       "  <tbody>\n",
       "    <tr>\n",
       "      <th>count</th>\n",
       "      <td>182.000000</td>\n",
       "      <td>156.000000</td>\n",
       "    </tr>\n",
       "    <tr>\n",
       "      <th>mean</th>\n",
       "      <td>6.521429</td>\n",
       "      <td>6.283974</td>\n",
       "    </tr>\n",
       "    <tr>\n",
       "      <th>std</th>\n",
       "      <td>1.380941</td>\n",
       "      <td>1.745908</td>\n",
       "    </tr>\n",
       "    <tr>\n",
       "      <th>min</th>\n",
       "      <td>1.600000</td>\n",
       "      <td>1.400000</td>\n",
       "    </tr>\n",
       "    <tr>\n",
       "      <th>25%</th>\n",
       "      <td>5.800000</td>\n",
       "      <td>5.300000</td>\n",
       "    </tr>\n",
       "    <tr>\n",
       "      <th>50%</th>\n",
       "      <td>6.800000</td>\n",
       "      <td>6.800000</td>\n",
       "    </tr>\n",
       "    <tr>\n",
       "      <th>75%</th>\n",
       "      <td>7.500000</td>\n",
       "      <td>7.600000</td>\n",
       "    </tr>\n",
       "    <tr>\n",
       "      <th>max</th>\n",
       "      <td>9.200000</td>\n",
       "      <td>9.300000</td>\n",
       "    </tr>\n",
       "  </tbody>\n",
       "</table>\n",
       "</div>"
      ],
      "text/plain": [
       "             XOne          PC\n",
       "count  182.000000  156.000000\n",
       "mean     6.521429    6.283974\n",
       "std      1.380941    1.745908\n",
       "min      1.600000    1.400000\n",
       "25%      5.800000    5.300000\n",
       "50%      6.800000    6.800000\n",
       "75%      7.500000    7.600000\n",
       "max      9.200000    9.300000"
      ]
     },
     "execution_count": 31,
     "metadata": {},
     "output_type": "execute_result"
    }
   ],
   "source": [
    "# Для метода st.ttest_ind проверим одинаковы ли дисперсии\n",
    "desc1=games13_16[games13_16['platform']=='XOne']['user_score'].describe()\n",
    "desc1.name='XOne'\n",
    "desc2=games13_16[games13_16['platform']=='PC']['user_score'].describe()\n",
    "desc2.name='PC'\n",
    "compare=pd.concat([desc1, desc2], axis=1)\n",
    "compare"
   ]
  },
  {
   "cell_type": "markdown",
   "id": "2aa3bad5",
   "metadata": {},
   "source": [
    "Стандартные отклонения различны - вводим параметр equal_var=False"
   ]
  },
  {
   "cell_type": "code",
   "execution_count": 32,
   "id": "5e0978d3",
   "metadata": {},
   "outputs": [
    {
     "data": {
      "text/plain": [
       "'p-значение: 0.17156613829336056'"
      ]
     },
     "metadata": {},
     "output_type": "display_data"
    },
    {
     "data": {
      "text/plain": [
       "'Не получилось отвергнуть нулевую гипотезу'"
      ]
     },
     "metadata": {},
     "output_type": "display_data"
    }
   ],
   "source": [
    "alpha = 0.05 \n",
    "results = st.ttest_ind(games13_16[games13_16['platform']=='XOne']['user_score'].dropna(), games13_16[games13_16['platform']=='PC']['user_score'].dropna(), equal_var=False)\n",
    "\n",
    "display(f'p-значение: {results.pvalue}')\n",
    "\n",
    "if results.pvalue < alpha:\n",
    "    display('Отвергаем нулевую гипотезу')\n",
    "else:\n",
    "    display('Не получилось отвергнуть нулевую гипотезу') "
   ]
  },
  {
   "cell_type": "markdown",
   "id": "0e4721f4",
   "metadata": {},
   "source": [
    "При статистической значимости 5% мы не можем отвергнуть гипотезу о равенстве средней величины отзывов на платформах XOne и PC"
   ]
  },
  {
   "cell_type": "markdown",
   "id": "59b05dd1",
   "metadata": {},
   "source": [
    "#### Средние пользовательские рейтинги жанров Action (англ. «действие», экшен-игры) и Sports (англ. «спортивные соревнования») разные."
   ]
  },
  {
   "cell_type": "markdown",
   "id": "69609086",
   "metadata": {},
   "source": [
    "Сформулируем гипотезу: Нулевая гипотеза - пользовательские рейтинги в жанрах одинаковые. Альтернативная - разные.\n",
    "\n",
    "Проверять будем st.ttest_ind как для независимых выборок. Предварительно необходимо будет проверить равенство дисперсий (или стандартных отклонений)."
   ]
  },
  {
   "cell_type": "code",
   "execution_count": 33,
   "id": "9b3d6825",
   "metadata": {},
   "outputs": [
    {
     "data": {
      "text/html": [
       "<div>\n",
       "<style scoped>\n",
       "    .dataframe tbody tr th:only-of-type {\n",
       "        vertical-align: middle;\n",
       "    }\n",
       "\n",
       "    .dataframe tbody tr th {\n",
       "        vertical-align: top;\n",
       "    }\n",
       "\n",
       "    .dataframe thead th {\n",
       "        text-align: right;\n",
       "    }\n",
       "</style>\n",
       "<table border=\"1\" class=\"dataframe\">\n",
       "  <thead>\n",
       "    <tr style=\"text-align: right;\">\n",
       "      <th></th>\n",
       "      <th>Action</th>\n",
       "      <th>Sports</th>\n",
       "    </tr>\n",
       "  </thead>\n",
       "  <tbody>\n",
       "    <tr>\n",
       "      <th>count</th>\n",
       "      <td>390.000000</td>\n",
       "      <td>160.000000</td>\n",
       "    </tr>\n",
       "    <tr>\n",
       "      <th>mean</th>\n",
       "      <td>6.841795</td>\n",
       "      <td>5.238125</td>\n",
       "    </tr>\n",
       "    <tr>\n",
       "      <th>std</th>\n",
       "      <td>1.331127</td>\n",
       "      <td>1.783427</td>\n",
       "    </tr>\n",
       "    <tr>\n",
       "      <th>min</th>\n",
       "      <td>2.000000</td>\n",
       "      <td>0.200000</td>\n",
       "    </tr>\n",
       "    <tr>\n",
       "      <th>25%</th>\n",
       "      <td>6.300000</td>\n",
       "      <td>4.100000</td>\n",
       "    </tr>\n",
       "    <tr>\n",
       "      <th>50%</th>\n",
       "      <td>7.100000</td>\n",
       "      <td>5.500000</td>\n",
       "    </tr>\n",
       "    <tr>\n",
       "      <th>75%</th>\n",
       "      <td>7.800000</td>\n",
       "      <td>6.500000</td>\n",
       "    </tr>\n",
       "    <tr>\n",
       "      <th>max</th>\n",
       "      <td>9.100000</td>\n",
       "      <td>8.800000</td>\n",
       "    </tr>\n",
       "  </tbody>\n",
       "</table>\n",
       "</div>"
      ],
      "text/plain": [
       "           Action      Sports\n",
       "count  390.000000  160.000000\n",
       "mean     6.841795    5.238125\n",
       "std      1.331127    1.783427\n",
       "min      2.000000    0.200000\n",
       "25%      6.300000    4.100000\n",
       "50%      7.100000    5.500000\n",
       "75%      7.800000    6.500000\n",
       "max      9.100000    8.800000"
      ]
     },
     "execution_count": 33,
     "metadata": {},
     "output_type": "execute_result"
    }
   ],
   "source": [
    "# Для метода st.ttest_ind проверим одинаковы ли дисперсии\n",
    "desc1=games13_16[games13_16['genre']=='Action']['user_score'].describe()\n",
    "desc1.name='Action'\n",
    "desc2=games13_16[games13_16['genre']=='Sports']['user_score'].describe()\n",
    "desc2.name='Sports'\n",
    "compare=pd.concat([desc1, desc2], axis=1)\n",
    "compare"
   ]
  },
  {
   "cell_type": "markdown",
   "id": "2081374b",
   "metadata": {},
   "source": [
    "На основании полученных выше стат. данных корректирую гипотезу: Нулевая гипотеза - пользовательские рейтинги в жанрах одинаковые. Альтернативная - пользоватеьский рейтинг жанра Action выше. Стандартные отклонения различны - вводим параметр equal_var=False"
   ]
  },
  {
   "cell_type": "code",
   "execution_count": 34,
   "id": "29feb920",
   "metadata": {},
   "outputs": [
    {
     "name": "stdout",
     "output_type": "stream",
     "text": [
      "p-значение: 1.1834440653354691e-20\n",
      "Отвергаем нулевую гипотезу\n"
     ]
    }
   ],
   "source": [
    "alpha = 0.05\n",
    "results = st.ttest_ind(games13_16[games13_16['genre']=='Action']['user_score'].dropna(), games13_16[games13_16['genre']=='Sports']['user_score'].dropna(), equal_var=False)\n",
    "\n",
    "print('p-значение:', results.pvalue)\n",
    "\n",
    "if results.pvalue < alpha:\n",
    "    print('Отвергаем нулевую гипотезу')\n",
    "else:\n",
    "    print('Не получилось отвергнуть нулевую гипотезу') "
   ]
  },
  {
   "cell_type": "markdown",
   "id": "90ef17da",
   "metadata": {},
   "source": [
    "При статистической значимости 5% можем отвергнуть гипотезу о равенстве средней величины отзывов в жанрах Action и Sports в пользу альтернативной гипотезы о большем среднем в жанре Action."
   ]
  },
  {
   "cell_type": "markdown",
   "id": "7525d8d3",
   "metadata": {},
   "source": [
    "# Выводы и заключение\n",
    "\n",
    "### Полученные данные\n",
    "\n",
    "    Получен массив данных games.csv, содержащий 16 715 строк с данными о продажах игр и описанием.\n",
    "    В названиях столбцов встречается верхний регистр.\n",
    "    Пользовательский рейтинг представлен текстом, много записей со значением tbd ('to be done' или подобное).\n",
    "    Полные дубликаты отсутствуют.\n",
    "    Значительное число пропусков, особенно в скоринге и рейтинге. Пропуски в скорингах связываю с тем, что пользователи и критики не оставили оценок на малопопулярные игры. Пропуски в рейтинге присущи старым играм и играм с низкой популярностью.\n",
    "    Два пропуска в названии игры - удалены.\n",
    "    Отсутствие года релиза в 269 случаев. В некоторых случаях год релиза заложен в названии игры и его можно восстановить.\n",
    "    В жанре часто встречается Misc - типа иное, появился при категоризации при подготовке данных перед отправкой мне. Заменяю на None\n",
    "\n",
    "### Предобработка данных\n",
    "\n",
    "    Удалены 2 записи игр без названий\n",
    "    Год релиза восстановлен для 17 игр.\n",
    "    В поле user_score записи со значением tbd заменены на пропуски, формат данных переведен во float\n",
    "    В поле genre значение Misc заменено на пропуск\n",
    "    Пропуски в рейтингах и скорингах оставлены без изменений, чтобы не искажать данные\n",
    "    Добавлен столбец с суммарными продажами по всем рынкам sum_sales   \n",
    "\n",
    "### Исследовательский анализ данных\n",
    "\n",
    "##### Платформы\n",
    "\n",
    "Пик производства игр пришелся на 2008-2009 годы, дальше практически двукратное снижение количества релизов к 2012 году. Откат к 2015 и потом снова падение. Поэтому 2017 - год неопределенности. Либо индустрия найдет выход (скорее всего), либо продолжит падение. Анализировать ситуацию до 2010 года нет смысла.\n",
    "\n",
    "Игровые платформы, на базе которых выходят те, или иные игры отличаются количеством на них релизов игр, объемом продаж копий и совокупной прибыльностью. За исключением платформ-долгожителей, типа PC, время жизни игровой платформы не превышает 11 лет. Практически всегда в первой половине срока жизни продажи растут, после пика - падают. \n",
    "\n",
    "_10 самых прибыльных платформ_ __DS, GBA, PC, PS, PS2, PS3, PS4, PSP, Wii, X360__ заметно, что половина из представленного - линейка Sony play station\n",
    "\n",
    "_Актуальные платформы_ (те, на которых есть релизы за последний отчетный год) - __X360, PS3, Wii, PS4, PC, 3DS, XOne, WiiU, PSV__ делятся по линейкам производителей Sony (PS3, PS4, PSV), Microsoft (X360, XOne), Nintendo (Wii, WiiU). Особняком стоят PC как вечная классика и 3DS как единственная в обзоре портативная игровая платформа.\n",
    "\n",
    "Сравнение количества проданных копий игр за 2015 и 2016 год показывает, что для всех актуальных платформ наблюдается снижение объема продаж. Это в точности соответствует падению объема релизов и объема продаж в целом по отрасли. Отметим, что при общем падении, перспективы у платфом различны. Последнее поколение платформ в линейках Sony, Microsoft и Nintendo перспективнее. \n",
    "\n",
    "Успешность платформы должна зависеть от релизов на ней игр. Причем, судя по гистограмме na_sales, коммерчески успешных игровых проектов существенно меньше, чем неуспешных. На примере Grand Theft Auto V видно, что игру сначала выпускают на популярных в это время платформах, далее портируя на остальные эту же версию игры, либо ее следующее поколение. Смена поколений игры очень грубо (поскольку на одном примере) можно оценить в 5 лет. Время портирования - год-два. При этом следующее поколение игры может выходить одновременно на самой новой платформе линейки и на предыдущей. Таким образом, можно ожидать, что в ближайшее время появятся топовые игры на новых платформах PSV (релиз 2011), XOne (релиз 2013), WiiU (релиз 2012).\n",
    "\n",
    "Поэтому при выборе диапазона данных для прогнозирования необходимо ориентироваться на следующие факторы:\n",
    "\n",
    "- время жизни платформ - нет смысла брать периоды более половины времени жизни платформы (примерно 5 лет), нет смысла рассматривать платформы, на которых не выходят релизы. Из платформ, относящихся к линейке какого-то производителя перспективнее всегда последняя версия.\n",
    "- топовые игры на платформах появляются с задержкой от 1 года необходимого для портирования до 5 лет, необходимых для выпуска нового релиза.\n",
    "- после падения начавшегося в 2010 году рынок не оправился окончательно и может в любой момент начать подниматься, либо падать. Подъем рынка прежде всего может быть связан с появлением новых успешных проектов, либо обновлениями предыдущих.\n",
    "\n",
    "_Основываясь на вышеизложенном. Исходя из падения рынка, начавшегося 6 лет назад, появлением трех новых платформ основных поставщиков 5 лет назад, малым количеством новых успешных игровых проектов, считаю потенциально полезным для дальнейшей работы разделить рассмотрение на 2 части. 1 - анализ топовых релизов 2007-2010 года. Смотреть какие из них планируются к обновлению и в какие сроки это стратегия. 2 - смотреть ближайшие 2-3 года, скажем 2013-2016 для отслеживания тенденций изменений рынков, предпочтений пользователей и т.п. Это тактика. Поскольку стратегических задач перед нами не ставили, будет решать тактические и ограничимся 2013-2016 годами._\n",
    "\n",
    "По объемам продаж поколения платформ не сменились окончательно. XOne уже обошла X360, но PSV толчется внизу. По средним продажам PS4 и X360 лидируют, но среднее по величине порядка 3 квартиля. Реальная прибыль на редких успешных проектах именно там - между 75% и max. И на новых платформах ее пока нет.\n",
    "\n",
    "##### Скейлинг\n",
    "\n",
    "Для самой продуктивной платформы PS4 наблюдается умеренная положительная связь между оценками пользователей и критиков с коэффициентом Пирсона 0.56. Умеренная положительная связь между оценками критиков и объемом продаж с коэффициентом Пирсона 0.4. Слабая отрицательная связь между продажами и оценкой пользователей с коэффициентом Пирсона -0.03.\n",
    "\n",
    "На других платформах все еще жухе - оценки критиков меньше коррелируют с продажами опускаясь до слабых корреляций на PC, Wii, PSV, корреляция оценок пользователей с продажами всегда слабая и разнонаправленная.\n",
    "\n",
    "Слабую корреляцию пользовательского скоринга с продажами связываю с тем, что для оценки игры пользователь должен ее купить. А дальше уже как повезет. При выборе игры пользователь в какой то степени ориентируется на отзывы критиков (умеренная корреляция продаж и оценок критиков). Но именно в какой-то степени.\n",
    "\n",
    "Таким образом при выборе игр для перепродажи мнение пользователей учитывать не следует, мнение критиков следует учитывать, но не полагаться на него.\n",
    "\n",
    "##### Жанры\n",
    "\n",
    "Больше 3/4 объема рынка занимают игры жанров Action (322 млн. копий), Shooter (233 млн. копий), Sports (151 млн. копий), Role-Playing (146 млн. копий). Дальше идут существенно менее популярные жанры.\n",
    "\n",
    "### Портрет пользователя каждого региона\n",
    "\n",
    "Наш магазин выделят три ключевых региона - Северная Америка (437 млн. копий), Европа (392 млн. копий), Япония (141 млн. копий). Остальные регионы в совокупности дают 120 млн. копий.\n",
    "\n",
    "##### Северная Америка\n",
    "\n",
    "Наиболее популярные платформы (в скобках объем продаж в млн. копий) PS4 (109), XOne (93), X360 (82), PS3 (63), 3DS (38). Различие между платформами 10 - 20 млн. копий, т.е. нет какого-то ярко выраженного лидера. Платформа PSV еще не вошла в топ, компактная платформа 3DS занимает 5 место, ни одна из стационарных платформ Nintendo не вошла в топ.\n",
    "\n",
    "Наиболее популярные жанры - Action (126), Shooter (110), Sports (65), Role-Playing (46), Platform (18). Явно выделяется жанр Action (1/3 рынка), Action, Shooter и Sports в совокупности занимают 3/4 рынка.\n",
    "\n",
    "Почти 1/2 проданных игр имеют рейтинг __М__, 1/4 - __Е__, остальное в равных долях __Е10__ и __Т__. Т.е. практически половина игр приобретается для взрослых игроков, четверть - для детей и еще четверть для детей в возрасте от 10 до 19 лет.\n",
    "\n",
    "##### Европа\n",
    "\n",
    "Наиболее популярные платформы (в скобках объем продаж в млн. копий) PS4 (141), PS3 (68), XOne (52), X360 (43), 3DS (31). В отличие от рынка северной Америки, среди платформ есть ярко выраженный лидер PS4, занимающий 1/3 рынка. Платформа PSV еще не вошла в топ, компактная платформа 3DS занимает 5 место, ни одна из стационарных платформ Nintendo не вошла в топ.\n",
    "\n",
    "Жанровый срез - копия северной америки. Action (118), Shooter (88), Sports (61), Role-Playing (37), Platform (20). Явно выделяется жанр Action (1/3 рынка), Action, Shooter и Sports в совокупности занимают 3/4 рынка.\n",
    "\n",
    "Возрастной срез пользователей тоже очень похож на северную америку. Почти 1/2 проданных игр имеют рейтинг __М__, 1/4 - __Е__, остальное в равных долях __Е10__ и __Т__. Т.е. практически половина игр приобретается для взрослых игроков, четверть - для детей и еще четверть для детей в возрасте от 10 до 19 лет\n",
    "\n",
    "##### Япония\n",
    "\n",
    "Регион существенно отличается от двух описанных выше. \n",
    "\n",
    "Наиболее популярные платформы - 3DS (68), PS3 (23), (PSV), PS4 (16), WIIU (11). Единственный из регионов, где лидирует, занимая почти половину рынка компактная платформа 3DS. В топ-5 не вошла ни одна из платформ Microsoft, при этом есть последняя платформа Nintendo - WiiU.\n",
    "\n",
    "Жанровые предпочтения в японии так же сильно отличаются. Role-Playing (51), Action (40), Fighting (8), Shooter (7), Adventure (6). Более трети рынка - Role-Playing, треть - Action, чуть меньше трети на все остальное. \n",
    "\n",
    "Примерно примерно 1/3 - рейтинг __Т__ (подростки), 1/4 - __E__ (дети), 1/4 - __M__, взрослые старше 17 лет и остальное - дети старше 10. Т.е. основной потребитель видео игр - подросток, что существенно отличается от рынков северной Америки и Европы.\n",
    "\n",
    "### Проверка гипотез\n",
    "\n",
    "Проверены две гипотезы. Обе проверялись методом st.ttest_ind для сравнения независимых выборок при стат. значимости 5%.\n",
    "\n",
    "Гипотеза 1 - Средние пользовательские рейтинги платформ Xbox One и PC одинаковые. Гипотеза подтверждена. При заданном уровне стат. значимости мы не можем говорить о различии параметров.\n",
    "\n",
    "Гипотеза 2 - Средние пользовательские рейтинги жанров Action (англ. «действие», экшен-игры) и Sports (англ. «спортивные соревнования») разные. На практике проверялась нулевая гипотеза о равенстве пользовательских рейтингов этих двух жанров при альтернативной гипотезе о большей величине пользовательского рейтинга жанра Action. При стат. значимости 5% нулевая гипотеза была отвергнута в пользу альтернативной. Таким образом, мы можем утверждать, что средние пользовательские оценки жанра Action выше оценок жанра Sports.\n",
    "\n",
    "### Заключение\n",
    "\n",
    "Проведен анализ полученных данных, в качестве рекомендаций на 2017 год можно выделить следующее:\n",
    "\n",
    "    - необходимо отслеживать появление новых релизов серийных игр и в целом релизов крупных проектов, способных предоставить значительную прибыль.\n",
    "    - сконцентрировать внимание на уходящих, но еще популярных платформах PS4, PS3, X360, а так же новых платформах PSV, XOne, 3DS, WiiU. Особое внимание к платформе 3DS на рынке Японии и платформам PSV, XOne в европе и северной америке.\n",
    "    - при выборе игр для закупки на отзывы пользователей ориентироваться не следует, отзывы критиков - учитывать.\n",
    "    - ожидается активная продажа игр в жанрах Action, Shooter, Sports, Role-Playing, Platform.\n",
    "    - ориентироваться прежде всего на взрослую целевую аудиторию в Европе и северной америке, подростков - в Японии\n",
    "    - средние пользовательские рейтинги платформ Xbox One и PC равны.\n",
    "    - средние пользовательские рейтинги игр жанра Action выше, чем жанра Sports"
   ]
  }
 ],
 "metadata": {
  "ExecuteTimeLog": [
   {
    "duration": 50,
    "start_time": "2024-03-25T05:25:59.518Z"
   },
   {
    "duration": 1374,
    "start_time": "2024-03-25T05:26:33.459Z"
   },
   {
    "duration": 8,
    "start_time": "2024-03-25T05:26:38.860Z"
   },
   {
    "duration": 12,
    "start_time": "2024-03-25T05:26:44.303Z"
   },
   {
    "duration": 3505,
    "start_time": "2024-03-25T05:27:28.805Z"
   },
   {
    "duration": 64,
    "start_time": "2024-03-25T05:27:48.608Z"
   },
   {
    "duration": 31,
    "start_time": "2024-03-25T05:27:54.399Z"
   },
   {
    "duration": 10,
    "start_time": "2024-03-25T05:27:57.891Z"
   },
   {
    "duration": 1134,
    "start_time": "2024-03-25T05:28:04.481Z"
   },
   {
    "duration": 194,
    "start_time": "2024-03-25T05:28:05.617Z"
   },
   {
    "duration": 55,
    "start_time": "2024-03-25T05:28:05.812Z"
   },
   {
    "duration": 4,
    "start_time": "2024-03-25T05:28:05.868Z"
   },
   {
    "duration": 419,
    "start_time": "2024-03-25T05:28:05.874Z"
   },
   {
    "duration": 497,
    "start_time": "2024-03-25T05:28:06.295Z"
   },
   {
    "duration": 41,
    "start_time": "2024-03-25T05:28:06.793Z"
   },
   {
    "duration": 51,
    "start_time": "2024-03-25T05:28:06.836Z"
   },
   {
    "duration": 676,
    "start_time": "2024-03-25T05:28:06.889Z"
   },
   {
    "duration": 240,
    "start_time": "2024-03-25T05:28:07.567Z"
   },
   {
    "duration": 263,
    "start_time": "2024-03-25T05:28:07.809Z"
   },
   {
    "duration": 337,
    "start_time": "2024-03-25T05:28:08.074Z"
   },
   {
    "duration": 329,
    "start_time": "2024-03-25T05:28:08.412Z"
   },
   {
    "duration": 18,
    "start_time": "2024-03-25T05:28:08.744Z"
   },
   {
    "duration": 27,
    "start_time": "2024-03-25T05:28:08.764Z"
   },
   {
    "duration": 6,
    "start_time": "2024-03-25T05:28:08.793Z"
   },
   {
    "duration": 915,
    "start_time": "2024-03-25T05:28:08.800Z"
   },
   {
    "duration": 57,
    "start_time": "2024-03-25T05:28:09.717Z"
   },
   {
    "duration": 158,
    "start_time": "2024-03-25T05:28:09.788Z"
   },
   {
    "duration": 164,
    "start_time": "2024-03-25T05:28:09.948Z"
   },
   {
    "duration": 59,
    "start_time": "2024-03-25T05:28:10.113Z"
   },
   {
    "duration": 150,
    "start_time": "2024-03-25T05:28:10.174Z"
   },
   {
    "duration": 34,
    "start_time": "2024-03-25T05:28:10.326Z"
   },
   {
    "duration": 370,
    "start_time": "2024-03-25T05:28:10.361Z"
   },
   {
    "duration": 32,
    "start_time": "2024-03-25T05:28:10.733Z"
   },
   {
    "duration": 422,
    "start_time": "2024-03-25T05:28:10.767Z"
   },
   {
    "duration": 331,
    "start_time": "2024-03-25T05:28:11.190Z"
   },
   {
    "duration": 15,
    "start_time": "2024-03-25T05:28:11.522Z"
   },
   {
    "duration": 8,
    "start_time": "2024-03-25T05:28:11.539Z"
   },
   {
    "duration": 14,
    "start_time": "2024-03-25T05:28:11.548Z"
   },
   {
    "duration": 30,
    "start_time": "2024-03-25T05:28:11.563Z"
   },
   {
    "duration": 745,
    "start_time": "2024-03-25T05:29:18.801Z"
   },
   {
    "duration": 738,
    "start_time": "2024-03-25T05:29:38.913Z"
   },
   {
    "duration": 104,
    "start_time": "2024-03-25T05:38:52.823Z"
   },
   {
    "duration": 13,
    "start_time": "2024-03-25T05:39:01.875Z"
   },
   {
    "duration": 22,
    "start_time": "2024-03-25T05:39:18.008Z"
   },
   {
    "duration": 27,
    "start_time": "2024-03-25T05:39:48.141Z"
   },
   {
    "duration": 24,
    "start_time": "2024-03-25T05:42:47.562Z"
   },
   {
    "duration": 210,
    "start_time": "2024-03-25T06:03:53.001Z"
   },
   {
    "duration": 8,
    "start_time": "2024-03-25T06:05:48.630Z"
   },
   {
    "duration": 25,
    "start_time": "2024-03-25T06:08:32.558Z"
   },
   {
    "duration": 36,
    "start_time": "2024-03-25T06:09:04.460Z"
   },
   {
    "duration": 6,
    "start_time": "2024-03-25T06:09:33.020Z"
   },
   {
    "duration": 10,
    "start_time": "2024-03-25T06:10:53.596Z"
   },
   {
    "duration": 30,
    "start_time": "2024-03-25T06:11:36.509Z"
   },
   {
    "duration": 48,
    "start_time": "2024-03-25T06:11:48.660Z"
   },
   {
    "duration": 47,
    "start_time": "2024-03-25T06:14:33.047Z"
   },
   {
    "duration": 52,
    "start_time": "2024-03-25T06:14:50.012Z"
   },
   {
    "duration": 33,
    "start_time": "2024-03-25T06:15:15.756Z"
   },
   {
    "duration": 212,
    "start_time": "2024-03-25T06:15:40.245Z"
   },
   {
    "duration": 32,
    "start_time": "2024-03-25T06:16:07.994Z"
   },
   {
    "duration": 40,
    "start_time": "2024-03-25T06:16:21.250Z"
   },
   {
    "duration": 211,
    "start_time": "2024-03-25T06:16:30.878Z"
   },
   {
    "duration": 196,
    "start_time": "2024-03-25T06:16:40.378Z"
   },
   {
    "duration": 213,
    "start_time": "2024-03-25T06:17:23.976Z"
   },
   {
    "duration": 205,
    "start_time": "2024-03-25T06:21:50.588Z"
   },
   {
    "duration": 202,
    "start_time": "2024-03-25T06:21:58.057Z"
   },
   {
    "duration": 202,
    "start_time": "2024-03-25T06:22:27.758Z"
   },
   {
    "duration": 204,
    "start_time": "2024-03-25T06:22:36.214Z"
   },
   {
    "duration": 225,
    "start_time": "2024-03-25T06:22:42.250Z"
   },
   {
    "duration": 307,
    "start_time": "2024-03-25T06:22:47.269Z"
   },
   {
    "duration": 214,
    "start_time": "2024-03-25T06:22:52.727Z"
   },
   {
    "duration": 243,
    "start_time": "2024-03-25T06:22:59.341Z"
   },
   {
    "duration": 255,
    "start_time": "2024-03-25T06:34:20.336Z"
   },
   {
    "duration": 9,
    "start_time": "2024-03-25T06:40:01.044Z"
   },
   {
    "duration": 15,
    "start_time": "2024-03-25T06:40:12.324Z"
   },
   {
    "duration": 12,
    "start_time": "2024-03-25T06:40:39.157Z"
   },
   {
    "duration": 14,
    "start_time": "2024-03-25T06:41:02.540Z"
   },
   {
    "duration": 20,
    "start_time": "2024-03-25T06:41:25.806Z"
   },
   {
    "duration": 27,
    "start_time": "2024-03-25T06:42:19.412Z"
   },
   {
    "duration": 24,
    "start_time": "2024-03-25T06:43:46.326Z"
   },
   {
    "duration": 24,
    "start_time": "2024-03-25T06:44:13.693Z"
   },
   {
    "duration": 20,
    "start_time": "2024-03-25T06:56:25.788Z"
   },
   {
    "duration": 179,
    "start_time": "2024-03-25T06:57:12.117Z"
   },
   {
    "duration": 263,
    "start_time": "2024-03-25T06:57:34.884Z"
   },
   {
    "duration": 276,
    "start_time": "2024-03-25T06:57:44.790Z"
   },
   {
    "duration": 372,
    "start_time": "2024-03-25T06:58:50.963Z"
   },
   {
    "duration": 316,
    "start_time": "2024-03-25T06:59:08.028Z"
   },
   {
    "duration": 304,
    "start_time": "2024-03-25T07:02:11.719Z"
   },
   {
    "duration": 320,
    "start_time": "2024-03-25T07:02:34.252Z"
   },
   {
    "duration": 291,
    "start_time": "2024-03-25T07:03:31.315Z"
   },
   {
    "duration": 91,
    "start_time": "2024-03-25T07:12:15.570Z"
   },
   {
    "duration": 364,
    "start_time": "2024-03-25T07:12:53.025Z"
   },
   {
    "duration": 369,
    "start_time": "2024-03-25T07:13:21.393Z"
   },
   {
    "duration": 506,
    "start_time": "2024-03-25T07:13:28.153Z"
   },
   {
    "duration": 377,
    "start_time": "2024-03-25T07:13:39.193Z"
   },
   {
    "duration": 524,
    "start_time": "2024-03-25T07:22:31.194Z"
   },
   {
    "duration": 399,
    "start_time": "2024-03-25T07:22:45.076Z"
   },
   {
    "duration": 13,
    "start_time": "2024-03-25T07:23:10.125Z"
   },
   {
    "duration": 462,
    "start_time": "2024-03-25T07:23:54.068Z"
   },
   {
    "duration": 348,
    "start_time": "2024-03-25T07:24:07.466Z"
   },
   {
    "duration": 353,
    "start_time": "2024-03-25T07:24:14.725Z"
   },
   {
    "duration": 364,
    "start_time": "2024-03-25T07:24:19.869Z"
   },
   {
    "duration": 326,
    "start_time": "2024-03-25T07:24:31.605Z"
   },
   {
    "duration": 403,
    "start_time": "2024-03-25T07:24:47.220Z"
   },
   {
    "duration": 324,
    "start_time": "2024-03-25T07:24:53.856Z"
   },
   {
    "duration": 315,
    "start_time": "2024-03-25T07:25:01.965Z"
   },
   {
    "duration": 336,
    "start_time": "2024-03-25T07:26:57.353Z"
   },
   {
    "duration": 393,
    "start_time": "2024-03-25T07:27:15.338Z"
   },
   {
    "duration": 377,
    "start_time": "2024-03-25T07:27:30.437Z"
   },
   {
    "duration": 448,
    "start_time": "2024-03-25T07:27:40.712Z"
   },
   {
    "duration": 359,
    "start_time": "2024-03-25T07:28:09.146Z"
   },
   {
    "duration": 398,
    "start_time": "2024-03-25T07:28:26.177Z"
   },
   {
    "duration": 279,
    "start_time": "2024-03-25T07:37:58.047Z"
   },
   {
    "duration": 266,
    "start_time": "2024-03-25T07:38:10.594Z"
   },
   {
    "duration": 265,
    "start_time": "2024-03-25T07:46:48.287Z"
   },
   {
    "duration": 372,
    "start_time": "2024-03-25T07:46:57.890Z"
   },
   {
    "duration": 779,
    "start_time": "2024-03-25T07:53:35.405Z"
   },
   {
    "duration": 786,
    "start_time": "2024-03-25T07:53:48.555Z"
   },
   {
    "duration": 1184,
    "start_time": "2024-03-25T07:53:59.318Z"
   },
   {
    "duration": 58,
    "start_time": "2024-03-25T07:54:00.504Z"
   },
   {
    "duration": 107,
    "start_time": "2024-03-25T07:54:00.564Z"
   },
   {
    "duration": 11,
    "start_time": "2024-03-25T07:54:00.673Z"
   },
   {
    "duration": 554,
    "start_time": "2024-03-25T07:54:00.687Z"
   },
   {
    "duration": 919,
    "start_time": "2024-03-25T07:54:01.242Z"
   },
   {
    "duration": 50,
    "start_time": "2024-03-25T07:54:02.163Z"
   },
   {
    "duration": 46,
    "start_time": "2024-03-25T07:54:02.215Z"
   },
   {
    "duration": 712,
    "start_time": "2024-03-25T07:54:02.263Z"
   },
   {
    "duration": 247,
    "start_time": "2024-03-25T07:54:02.977Z"
   },
   {
    "duration": 271,
    "start_time": "2024-03-25T07:54:03.227Z"
   },
   {
    "duration": 345,
    "start_time": "2024-03-25T07:54:03.500Z"
   },
   {
    "duration": 343,
    "start_time": "2024-03-25T07:54:03.847Z"
   },
   {
    "duration": 20,
    "start_time": "2024-03-25T07:54:04.193Z"
   },
   {
    "duration": 29,
    "start_time": "2024-03-25T07:54:04.214Z"
   },
   {
    "duration": 13,
    "start_time": "2024-03-25T07:54:04.245Z"
   },
   {
    "duration": 1009,
    "start_time": "2024-03-25T07:54:04.260Z"
   },
   {
    "duration": 268,
    "start_time": "2024-03-25T07:54:05.271Z"
   },
   {
    "duration": 77,
    "start_time": "2024-03-25T07:54:05.541Z"
   },
   {
    "duration": 172,
    "start_time": "2024-03-25T07:54:05.619Z"
   },
   {
    "duration": 168,
    "start_time": "2024-03-25T07:54:05.792Z"
   },
   {
    "duration": 69,
    "start_time": "2024-03-25T07:54:05.961Z"
   },
   {
    "duration": 145,
    "start_time": "2024-03-25T07:54:06.032Z"
   },
   {
    "duration": 32,
    "start_time": "2024-03-25T07:54:06.179Z"
   },
   {
    "duration": 281,
    "start_time": "2024-03-25T07:54:06.212Z"
   },
   {
    "duration": 31,
    "start_time": "2024-03-25T07:54:06.495Z"
   },
   {
    "duration": 378,
    "start_time": "2024-03-25T07:54:06.527Z"
   },
   {
    "duration": 31,
    "start_time": "2024-03-25T07:54:06.907Z"
   },
   {
    "duration": 451,
    "start_time": "2024-03-25T07:54:06.940Z"
   },
   {
    "duration": 264,
    "start_time": "2024-03-25T07:54:07.393Z"
   },
   {
    "duration": 15,
    "start_time": "2024-03-25T07:54:07.659Z"
   },
   {
    "duration": 18,
    "start_time": "2024-03-25T07:54:07.676Z"
   },
   {
    "duration": 15,
    "start_time": "2024-03-25T07:54:07.696Z"
   },
   {
    "duration": 8,
    "start_time": "2024-03-25T07:54:07.712Z"
   },
   {
    "duration": 1227,
    "start_time": "2024-03-25T07:57:54.270Z"
   },
   {
    "duration": 58,
    "start_time": "2024-03-25T07:57:55.499Z"
   },
   {
    "duration": 55,
    "start_time": "2024-03-25T07:57:55.559Z"
   },
   {
    "duration": 4,
    "start_time": "2024-03-25T07:57:55.615Z"
   },
   {
    "duration": 425,
    "start_time": "2024-03-25T07:57:55.620Z"
   },
   {
    "duration": 874,
    "start_time": "2024-03-25T07:57:56.046Z"
   },
   {
    "duration": 40,
    "start_time": "2024-03-25T07:57:56.922Z"
   },
   {
    "duration": 46,
    "start_time": "2024-03-25T07:57:56.964Z"
   },
   {
    "duration": 765,
    "start_time": "2024-03-25T07:57:57.011Z"
   },
   {
    "duration": 234,
    "start_time": "2024-03-25T07:57:57.778Z"
   },
   {
    "duration": 269,
    "start_time": "2024-03-25T07:57:58.013Z"
   },
   {
    "duration": 334,
    "start_time": "2024-03-25T07:57:58.284Z"
   },
   {
    "duration": 323,
    "start_time": "2024-03-25T07:57:58.619Z"
   },
   {
    "duration": 21,
    "start_time": "2024-03-25T07:57:58.943Z"
   },
   {
    "duration": 34,
    "start_time": "2024-03-25T07:57:58.965Z"
   },
   {
    "duration": 9,
    "start_time": "2024-03-25T07:57:59.000Z"
   },
   {
    "duration": 969,
    "start_time": "2024-03-25T07:57:59.011Z"
   },
   {
    "duration": 295,
    "start_time": "2024-03-25T07:57:59.986Z"
   },
   {
    "duration": 61,
    "start_time": "2024-03-25T07:58:00.287Z"
   },
   {
    "duration": 242,
    "start_time": "2024-03-25T07:58:00.350Z"
   },
   {
    "duration": 168,
    "start_time": "2024-03-25T07:58:00.594Z"
   },
   {
    "duration": 71,
    "start_time": "2024-03-25T07:58:00.764Z"
   },
   {
    "duration": 158,
    "start_time": "2024-03-25T07:58:00.837Z"
   },
   {
    "duration": 25,
    "start_time": "2024-03-25T07:58:00.997Z"
   },
   {
    "duration": 329,
    "start_time": "2024-03-25T07:58:01.023Z"
   },
   {
    "duration": 41,
    "start_time": "2024-03-25T07:58:01.354Z"
   },
   {
    "duration": 352,
    "start_time": "2024-03-25T07:58:01.396Z"
   },
   {
    "duration": 49,
    "start_time": "2024-03-25T07:58:01.752Z"
   },
   {
    "duration": 487,
    "start_time": "2024-03-25T07:58:01.803Z"
   },
   {
    "duration": 278,
    "start_time": "2024-03-25T07:58:02.292Z"
   },
   {
    "duration": 28,
    "start_time": "2024-03-25T07:58:02.572Z"
   },
   {
    "duration": 19,
    "start_time": "2024-03-25T07:58:02.602Z"
   },
   {
    "duration": 67,
    "start_time": "2024-03-25T07:58:02.623Z"
   },
   {
    "duration": 7,
    "start_time": "2024-03-25T07:58:02.692Z"
   },
   {
    "duration": 127,
    "start_time": "2024-03-25T08:00:55.856Z"
   },
   {
    "duration": 123,
    "start_time": "2024-03-25T08:01:06.138Z"
   },
   {
    "duration": 125,
    "start_time": "2024-03-25T08:01:20.403Z"
   }
  ],
  "kernelspec": {
   "display_name": "Python 3 (ipykernel)",
   "language": "python",
   "name": "python3"
  },
  "language_info": {
   "codemirror_mode": {
    "name": "ipython",
    "version": 3
   },
   "file_extension": ".py",
   "mimetype": "text/x-python",
   "name": "python",
   "nbconvert_exporter": "python",
   "pygments_lexer": "ipython3",
   "version": "3.9.18"
  },
  "toc": {
   "base_numbering": 1,
   "nav_menu": {},
   "number_sections": true,
   "sideBar": true,
   "skip_h1_title": true,
   "title_cell": "Table of Contents",
   "title_sidebar": "Contents",
   "toc_cell": false,
   "toc_position": {},
   "toc_section_display": true,
   "toc_window_display": false
  }
 },
 "nbformat": 4,
 "nbformat_minor": 5
}
